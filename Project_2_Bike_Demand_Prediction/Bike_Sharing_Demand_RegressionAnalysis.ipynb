{
 "cells": [
  {
   "cell_type": "markdown",
   "id": "22124048",
   "metadata": {},
   "source": [
    "# Importing all the necessary libraries"
   ]
  },
  {
   "cell_type": "code",
   "execution_count": 1,
   "id": "5c05d5d2",
   "metadata": {},
   "outputs": [],
   "source": [
    "import pandas as pd\n",
    "import numpy as np\n",
    "import seaborn as sns\n",
    "import matplotlib.pyplot as plt\n",
    "\n",
    "from sklearn.model_selection import train_test_split\n",
    "from sklearn.linear_model import LinearRegression\n",
    "\n",
    "from sklearn.preprocessing import PolynomialFeatures\n",
    "from sklearn.impute import SimpleImputer\n",
    "from sklearn.preprocessing import OneHotEncoder, KBinsDiscretizer\n",
    "from sklearn.preprocessing import RobustScaler, StandardScaler, MinMaxScaler\n",
    "from sklearn.preprocessing import FunctionTransformer\n",
    "from sklearn.compose import ColumnTransformer\n",
    "from sklearn.pipeline import Pipeline\n",
    "from sklearn import set_config\n",
    "from sklearn.metrics import mean_squared_error, mean_absolute_error, r2_score\n",
    "from sklearn.linear_model import LinearRegression, Ridge, Lasso, ElasticNet\n",
    "from sklearn.metrics import mean_squared_error"
   ]
  },
  {
   "cell_type": "markdown",
   "id": "7180aeaa",
   "metadata": {},
   "source": [
    "## Loading the dataset"
   ]
  },
  {
   "cell_type": "code",
   "execution_count": 2,
   "id": "a95c2839",
   "metadata": {},
   "outputs": [],
   "source": [
    "df = pd.read_csv('Data_Set.csv')"
   ]
  },
  {
   "cell_type": "markdown",
   "id": "bd70727f",
   "metadata": {},
   "source": [
    "#### Checking the header of the datset by calling .head function"
   ]
  },
  {
   "cell_type": "code",
   "execution_count": 3,
   "id": "2b7ec93f",
   "metadata": {},
   "outputs": [
    {
     "data": {
      "text/html": [
       "<div>\n",
       "<style scoped>\n",
       "    .dataframe tbody tr th:only-of-type {\n",
       "        vertical-align: middle;\n",
       "    }\n",
       "\n",
       "    .dataframe tbody tr th {\n",
       "        vertical-align: top;\n",
       "    }\n",
       "\n",
       "    .dataframe thead th {\n",
       "        text-align: right;\n",
       "    }\n",
       "</style>\n",
       "<table border=\"1\" class=\"dataframe\">\n",
       "  <thead>\n",
       "    <tr style=\"text-align: right;\">\n",
       "      <th></th>\n",
       "      <th>datetime</th>\n",
       "      <th>season</th>\n",
       "      <th>holiday</th>\n",
       "      <th>workingday</th>\n",
       "      <th>weather</th>\n",
       "      <th>temp</th>\n",
       "      <th>atemp</th>\n",
       "      <th>humidity</th>\n",
       "      <th>windspeed</th>\n",
       "      <th>casual</th>\n",
       "      <th>registered</th>\n",
       "      <th>count</th>\n",
       "    </tr>\n",
       "  </thead>\n",
       "  <tbody>\n",
       "    <tr>\n",
       "      <th>0</th>\n",
       "      <td>2011-01-01 00:00:00</td>\n",
       "      <td>1</td>\n",
       "      <td>0</td>\n",
       "      <td>0</td>\n",
       "      <td>1</td>\n",
       "      <td>9.84</td>\n",
       "      <td>14.395</td>\n",
       "      <td>81</td>\n",
       "      <td>0.0</td>\n",
       "      <td>3</td>\n",
       "      <td>13</td>\n",
       "      <td>16</td>\n",
       "    </tr>\n",
       "    <tr>\n",
       "      <th>1</th>\n",
       "      <td>2011-01-01 01:00:00</td>\n",
       "      <td>1</td>\n",
       "      <td>0</td>\n",
       "      <td>0</td>\n",
       "      <td>1</td>\n",
       "      <td>9.02</td>\n",
       "      <td>13.635</td>\n",
       "      <td>80</td>\n",
       "      <td>0.0</td>\n",
       "      <td>8</td>\n",
       "      <td>32</td>\n",
       "      <td>40</td>\n",
       "    </tr>\n",
       "    <tr>\n",
       "      <th>2</th>\n",
       "      <td>2011-01-01 02:00:00</td>\n",
       "      <td>1</td>\n",
       "      <td>0</td>\n",
       "      <td>0</td>\n",
       "      <td>1</td>\n",
       "      <td>9.02</td>\n",
       "      <td>13.635</td>\n",
       "      <td>80</td>\n",
       "      <td>0.0</td>\n",
       "      <td>5</td>\n",
       "      <td>27</td>\n",
       "      <td>32</td>\n",
       "    </tr>\n",
       "    <tr>\n",
       "      <th>3</th>\n",
       "      <td>2011-01-01 03:00:00</td>\n",
       "      <td>1</td>\n",
       "      <td>0</td>\n",
       "      <td>0</td>\n",
       "      <td>1</td>\n",
       "      <td>9.84</td>\n",
       "      <td>14.395</td>\n",
       "      <td>75</td>\n",
       "      <td>0.0</td>\n",
       "      <td>3</td>\n",
       "      <td>10</td>\n",
       "      <td>13</td>\n",
       "    </tr>\n",
       "    <tr>\n",
       "      <th>4</th>\n",
       "      <td>2011-01-01 04:00:00</td>\n",
       "      <td>1</td>\n",
       "      <td>0</td>\n",
       "      <td>0</td>\n",
       "      <td>1</td>\n",
       "      <td>9.84</td>\n",
       "      <td>14.395</td>\n",
       "      <td>75</td>\n",
       "      <td>0.0</td>\n",
       "      <td>0</td>\n",
       "      <td>1</td>\n",
       "      <td>1</td>\n",
       "    </tr>\n",
       "  </tbody>\n",
       "</table>\n",
       "</div>"
      ],
      "text/plain": [
       "              datetime  season  holiday  workingday  weather  temp   atemp  \\\n",
       "0  2011-01-01 00:00:00       1        0           0        1  9.84  14.395   \n",
       "1  2011-01-01 01:00:00       1        0           0        1  9.02  13.635   \n",
       "2  2011-01-01 02:00:00       1        0           0        1  9.02  13.635   \n",
       "3  2011-01-01 03:00:00       1        0           0        1  9.84  14.395   \n",
       "4  2011-01-01 04:00:00       1        0           0        1  9.84  14.395   \n",
       "\n",
       "   humidity  windspeed  casual  registered  count  \n",
       "0        81        0.0       3          13     16  \n",
       "1        80        0.0       8          32     40  \n",
       "2        80        0.0       5          27     32  \n",
       "3        75        0.0       3          10     13  \n",
       "4        75        0.0       0           1      1  "
      ]
     },
     "execution_count": 3,
     "metadata": {},
     "output_type": "execute_result"
    }
   ],
   "source": [
    "df.head()"
   ]
  },
  {
   "cell_type": "markdown",
   "id": "ff9528ea",
   "metadata": {},
   "source": [
    "#### checking the datatype info "
   ]
  },
  {
   "cell_type": "code",
   "execution_count": 4,
   "id": "0e90289b",
   "metadata": {},
   "outputs": [
    {
     "name": "stdout",
     "output_type": "stream",
     "text": [
      "<class 'pandas.core.frame.DataFrame'>\n",
      "RangeIndex: 10886 entries, 0 to 10885\n",
      "Data columns (total 12 columns):\n",
      " #   Column      Non-Null Count  Dtype  \n",
      "---  ------      --------------  -----  \n",
      " 0   datetime    10886 non-null  object \n",
      " 1   season      10886 non-null  int64  \n",
      " 2   holiday     10886 non-null  int64  \n",
      " 3   workingday  10886 non-null  int64  \n",
      " 4   weather     10886 non-null  int64  \n",
      " 5   temp        10886 non-null  float64\n",
      " 6   atemp       10886 non-null  float64\n",
      " 7   humidity    10886 non-null  int64  \n",
      " 8   windspeed   10886 non-null  float64\n",
      " 9   casual      10886 non-null  int64  \n",
      " 10  registered  10886 non-null  int64  \n",
      " 11  count       10886 non-null  int64  \n",
      "dtypes: float64(3), int64(8), object(1)\n",
      "memory usage: 1020.7+ KB\n"
     ]
    }
   ],
   "source": [
    "df.info()"
   ]
  },
  {
   "cell_type": "markdown",
   "id": "e4938981",
   "metadata": {},
   "source": [
    "#### Splitting the dataset in to independent variable and dependent variable"
   ]
  },
  {
   "cell_type": "code",
   "execution_count": 5,
   "id": "52921007",
   "metadata": {},
   "outputs": [
    {
     "data": {
      "text/plain": [
       "Index(['datetime', 'season', 'holiday', 'workingday', 'weather', 'temp',\n",
       "       'atemp', 'humidity', 'windspeed', 'casual', 'registered', 'count'],\n",
       "      dtype='object')"
      ]
     },
     "execution_count": 5,
     "metadata": {},
     "output_type": "execute_result"
    }
   ],
   "source": [
    "df.columns"
   ]
  },
  {
   "cell_type": "code",
   "execution_count": 6,
   "id": "31a619bd",
   "metadata": {},
   "outputs": [],
   "source": [
    "X = df[['datetime','season', 'holiday', 'workingday', 'weather', 'temp', 'atemp',\n",
    "       'humidity', 'windspeed', 'casual', 'registered']] \n",
    "# feature 'casual' and 'registeres' gives the total values as 'count' which is the target variable in this dataset,\n",
    "#these two features will be removed later."
   ]
  },
  {
   "cell_type": "code",
   "execution_count": 7,
   "id": "d3cddf58",
   "metadata": {},
   "outputs": [],
   "source": [
    "y = df['count']"
   ]
  },
  {
   "cell_type": "code",
   "execution_count": 8,
   "id": "f1fc9196",
   "metadata": {},
   "outputs": [],
   "source": [
    "#X.head(2)"
   ]
  },
  {
   "cell_type": "code",
   "execution_count": 9,
   "id": "09aa05da",
   "metadata": {},
   "outputs": [],
   "source": [
    "#y.head(2)"
   ]
  },
  {
   "cell_type": "markdown",
   "id": "4dbb740e",
   "metadata": {},
   "source": [
    "#### splitting the dataset into train and test dataframe"
   ]
  },
  {
   "cell_type": "code",
   "execution_count": 10,
   "id": "c0bd81b1",
   "metadata": {},
   "outputs": [
    {
     "data": {
      "text/plain": [
       "((8164, 11), (2722, 11), (8164,), (2722,))"
      ]
     },
     "execution_count": 10,
     "metadata": {},
     "output_type": "execute_result"
    }
   ],
   "source": [
    "xtrain, xtest, ytrain, ytest = train_test_split(X, y, test_size= 0.25, random_state= 42)\n",
    "xtrain.shape, xtest.shape, ytrain.shape, ytest.shape"
   ]
  },
  {
   "cell_type": "code",
   "execution_count": 11,
   "id": "cbaa9fc4",
   "metadata": {},
   "outputs": [],
   "source": [
    "#xtrain.head()"
   ]
  },
  {
   "cell_type": "code",
   "execution_count": 12,
   "id": "bf6bcd5e",
   "metadata": {},
   "outputs": [
    {
     "data": {
      "text/plain": [
       "2930     35\n",
       "7669    251\n",
       "1346     53\n",
       "9432    296\n",
       "453      16\n",
       "Name: count, dtype: int64"
      ]
     },
     "execution_count": 12,
     "metadata": {},
     "output_type": "execute_result"
    }
   ],
   "source": [
    "ytrain.head()"
   ]
  },
  {
   "cell_type": "markdown",
   "id": "2bf5a8c6",
   "metadata": {},
   "source": [
    "# ______________________________\n",
    "#### 1 <==> Clear, Few clouds, Partly cloudy, Partly cloudy\n",
    "#### 2 <==> Mist + Cloudy, Mist + Broken clouds, Mist + Few clouds, Mist\n",
    "#### 3 <==> Light Snow, Light Rain + Thunderstorm + Scattered clouds, Light Rain + Scattered clouds\n",
    "#### 4 <==> Heavy Rain + Ice Pallets + Thunderstorm + Mist, Snow + Fog"
   ]
  },
  {
   "cell_type": "code",
   "execution_count": 13,
   "id": "bbddf7d1",
   "metadata": {},
   "outputs": [
    {
     "data": {
      "text/plain": [
       "<AxesSubplot:xlabel='weather', ylabel='count'>"
      ]
     },
     "execution_count": 13,
     "metadata": {},
     "output_type": "execute_result"
    },
    {
     "data": {
      "image/png": "[encoded data removed]",
      "text/plain": [
       "<Figure size 432x288 with 1 Axes>"
      ]
     },
     "metadata": {
      "needs_background": "light"
     },
     "output_type": "display_data"
    }
   ],
   "source": [
    "sns.countplot(x = xtrain['weather'])"
   ]
  },
  {
   "cell_type": "markdown",
   "id": "46d9c1d3",
   "metadata": {},
   "source": [
    "#### the above count plot gives us information about number of rentals during different weather condition."
   ]
  },
  {
   "cell_type": "code",
   "execution_count": 14,
   "id": "d3262c8d",
   "metadata": {},
   "outputs": [
    {
     "name": "stderr",
     "output_type": "stream",
     "text": [
      "C:\\Users\\Asus\\AppData\\Local\\Temp/ipykernel_28492/1883994923.py:1: SettingWithCopyWarning: \n",
      "A value is trying to be set on a copy of a slice from a DataFrame.\n",
      "Try using .loc[row_indexer,col_indexer] = value instead\n",
      "\n",
      "See the caveats in the documentation: https://pandas.pydata.org/pandas-docs/stable/user_guide/indexing.html#returning-a-view-versus-a-copy\n",
      "  xtrain['datetime']  = pd.to_datetime(xtrain['datetime'], dayfirst = True) # converting datetime feature from object to datetime object\n"
     ]
    }
   ],
   "source": [
    "xtrain['datetime']  = pd.to_datetime(xtrain['datetime'], dayfirst = True) # converting datetime feature from object to datetime object"
   ]
  },
  {
   "cell_type": "code",
   "execution_count": 15,
   "id": "57421276",
   "metadata": {},
   "outputs": [],
   "source": [
    "#xtrain.head()"
   ]
  },
  {
   "cell_type": "code",
   "execution_count": 16,
   "id": "187c6d84",
   "metadata": {},
   "outputs": [
    {
     "name": "stdout",
     "output_type": "stream",
     "text": [
      "<class 'pandas.core.frame.DataFrame'>\n",
      "Int64Index: 8164 entries, 2930 to 7270\n",
      "Data columns (total 11 columns):\n",
      " #   Column      Non-Null Count  Dtype         \n",
      "---  ------      --------------  -----         \n",
      " 0   datetime    8164 non-null   datetime64[ns]\n",
      " 1   season      8164 non-null   int64         \n",
      " 2   holiday     8164 non-null   int64         \n",
      " 3   workingday  8164 non-null   int64         \n",
      " 4   weather     8164 non-null   int64         \n",
      " 5   temp        8164 non-null   float64       \n",
      " 6   atemp       8164 non-null   float64       \n",
      " 7   humidity    8164 non-null   int64         \n",
      " 8   windspeed   8164 non-null   float64       \n",
      " 9   casual      8164 non-null   int64         \n",
      " 10  registered  8164 non-null   int64         \n",
      "dtypes: datetime64[ns](1), float64(3), int64(7)\n",
      "memory usage: 1023.4 KB\n"
     ]
    }
   ],
   "source": [
    "xtrain.info()"
   ]
  },
  {
   "cell_type": "markdown",
   "id": "40e71e2c",
   "metadata": {},
   "source": [
    "#### creating new features from datetime feature for both xtrain and xtest dataframe"
   ]
  },
  {
   "cell_type": "code",
   "execution_count": 17,
   "id": "eacf0359",
   "metadata": {},
   "outputs": [
    {
     "name": "stderr",
     "output_type": "stream",
     "text": [
      "C:\\Users\\Asus\\AppData\\Local\\Temp/ipykernel_28492/4136973592.py:1: SettingWithCopyWarning: \n",
      "A value is trying to be set on a copy of a slice from a DataFrame.\n",
      "Try using .loc[row_indexer,col_indexer] = value instead\n",
      "\n",
      "See the caveats in the documentation: https://pandas.pydata.org/pandas-docs/stable/user_guide/indexing.html#returning-a-view-versus-a-copy\n",
      "  xtrain['year'] = xtrain['datetime'].dt.year\n"
     ]
    }
   ],
   "source": [
    "xtrain['year'] = xtrain['datetime'].dt.year"
   ]
  },
  {
   "cell_type": "code",
   "execution_count": 18,
   "id": "bde3023e",
   "metadata": {},
   "outputs": [
    {
     "name": "stderr",
     "output_type": "stream",
     "text": [
      "C:\\Users\\Asus\\AppData\\Local\\Temp/ipykernel_28492/1275354300.py:1: SettingWithCopyWarning: \n",
      "A value is trying to be set on a copy of a slice from a DataFrame.\n",
      "Try using .loc[row_indexer,col_indexer] = value instead\n",
      "\n",
      "See the caveats in the documentation: https://pandas.pydata.org/pandas-docs/stable/user_guide/indexing.html#returning-a-view-versus-a-copy\n",
      "  xtrain['day'] = xtrain['datetime'].dt.day\n"
     ]
    }
   ],
   "source": [
    "xtrain['day'] = xtrain['datetime'].dt.day"
   ]
  },
  {
   "cell_type": "code",
   "execution_count": 19,
   "id": "2ef16fd7",
   "metadata": {},
   "outputs": [
    {
     "name": "stderr",
     "output_type": "stream",
     "text": [
      "C:\\Users\\Asus\\AppData\\Local\\Temp/ipykernel_28492/3412509816.py:1: SettingWithCopyWarning: \n",
      "A value is trying to be set on a copy of a slice from a DataFrame.\n",
      "Try using .loc[row_indexer,col_indexer] = value instead\n",
      "\n",
      "See the caveats in the documentation: https://pandas.pydata.org/pandas-docs/stable/user_guide/indexing.html#returning-a-view-versus-a-copy\n",
      "  xtrain['month'] = xtrain['datetime'].dt.month\n"
     ]
    }
   ],
   "source": [
    "xtrain['month'] = xtrain['datetime'].dt.month"
   ]
  },
  {
   "cell_type": "code",
   "execution_count": 20,
   "id": "003b4c5c",
   "metadata": {},
   "outputs": [
    {
     "name": "stderr",
     "output_type": "stream",
     "text": [
      "C:\\Users\\Asus\\AppData\\Local\\Temp/ipykernel_28492/434067502.py:1: SettingWithCopyWarning: \n",
      "A value is trying to be set on a copy of a slice from a DataFrame.\n",
      "Try using .loc[row_indexer,col_indexer] = value instead\n",
      "\n",
      "See the caveats in the documentation: https://pandas.pydata.org/pandas-docs/stable/user_guide/indexing.html#returning-a-view-versus-a-copy\n",
      "  xtrain['hour'] = xtrain['datetime'].dt.hour\n"
     ]
    }
   ],
   "source": [
    "xtrain['hour'] = xtrain['datetime'].dt.hour"
   ]
  },
  {
   "cell_type": "code",
   "execution_count": 21,
   "id": "7fe5f70a",
   "metadata": {},
   "outputs": [
    {
     "name": "stderr",
     "output_type": "stream",
     "text": [
      "C:\\Users\\Asus\\AppData\\Local\\Temp/ipykernel_28492/476659384.py:1: FutureWarning: Series.dt.weekofyear and Series.dt.week have been deprecated.  Please use Series.dt.isocalendar().week instead.\n",
      "  xtrain['week'] = xtrain['datetime'].dt.week\n",
      "C:\\Users\\Asus\\AppData\\Local\\Temp/ipykernel_28492/476659384.py:1: SettingWithCopyWarning: \n",
      "A value is trying to be set on a copy of a slice from a DataFrame.\n",
      "Try using .loc[row_indexer,col_indexer] = value instead\n",
      "\n",
      "See the caveats in the documentation: https://pandas.pydata.org/pandas-docs/stable/user_guide/indexing.html#returning-a-view-versus-a-copy\n",
      "  xtrain['week'] = xtrain['datetime'].dt.week\n"
     ]
    }
   ],
   "source": [
    "xtrain['week'] = xtrain['datetime'].dt.week"
   ]
  },
  {
   "cell_type": "code",
   "execution_count": 22,
   "id": "6fb060fa",
   "metadata": {},
   "outputs": [
    {
     "data": {
      "text/html": [
       "<div>\n",
       "<style scoped>\n",
       "    .dataframe tbody tr th:only-of-type {\n",
       "        vertical-align: middle;\n",
       "    }\n",
       "\n",
       "    .dataframe tbody tr th {\n",
       "        vertical-align: top;\n",
       "    }\n",
       "\n",
       "    .dataframe thead th {\n",
       "        text-align: right;\n",
       "    }\n",
       "</style>\n",
       "<table border=\"1\" class=\"dataframe\">\n",
       "  <thead>\n",
       "    <tr style=\"text-align: right;\">\n",
       "      <th></th>\n",
       "      <th>datetime</th>\n",
       "      <th>season</th>\n",
       "      <th>holiday</th>\n",
       "      <th>workingday</th>\n",
       "      <th>weather</th>\n",
       "      <th>temp</th>\n",
       "      <th>atemp</th>\n",
       "      <th>humidity</th>\n",
       "      <th>windspeed</th>\n",
       "      <th>casual</th>\n",
       "      <th>registered</th>\n",
       "      <th>year</th>\n",
       "      <th>day</th>\n",
       "      <th>month</th>\n",
       "      <th>hour</th>\n",
       "      <th>week</th>\n",
       "    </tr>\n",
       "  </thead>\n",
       "  <tbody>\n",
       "    <tr>\n",
       "      <th>2930</th>\n",
       "      <td>2011-07-11 00:00:00</td>\n",
       "      <td>3</td>\n",
       "      <td>0</td>\n",
       "      <td>1</td>\n",
       "      <td>1</td>\n",
       "      <td>28.70</td>\n",
       "      <td>32.575</td>\n",
       "      <td>65</td>\n",
       "      <td>12.9980</td>\n",
       "      <td>10</td>\n",
       "      <td>25</td>\n",
       "      <td>2011</td>\n",
       "      <td>11</td>\n",
       "      <td>7</td>\n",
       "      <td>0</td>\n",
       "      <td>28</td>\n",
       "    </tr>\n",
       "    <tr>\n",
       "      <th>7669</th>\n",
       "      <td>2012-05-18 22:00:00</td>\n",
       "      <td>2</td>\n",
       "      <td>0</td>\n",
       "      <td>1</td>\n",
       "      <td>1</td>\n",
       "      <td>22.96</td>\n",
       "      <td>26.515</td>\n",
       "      <td>52</td>\n",
       "      <td>22.0028</td>\n",
       "      <td>57</td>\n",
       "      <td>194</td>\n",
       "      <td>2012</td>\n",
       "      <td>18</td>\n",
       "      <td>5</td>\n",
       "      <td>22</td>\n",
       "      <td>20</td>\n",
       "    </tr>\n",
       "    <tr>\n",
       "      <th>1346</th>\n",
       "      <td>2011-04-01 23:00:00</td>\n",
       "      <td>2</td>\n",
       "      <td>0</td>\n",
       "      <td>1</td>\n",
       "      <td>1</td>\n",
       "      <td>12.30</td>\n",
       "      <td>15.910</td>\n",
       "      <td>61</td>\n",
       "      <td>6.0032</td>\n",
       "      <td>12</td>\n",
       "      <td>41</td>\n",
       "      <td>2011</td>\n",
       "      <td>1</td>\n",
       "      <td>4</td>\n",
       "      <td>23</td>\n",
       "      <td>13</td>\n",
       "    </tr>\n",
       "    <tr>\n",
       "      <th>9432</th>\n",
       "      <td>2012-09-16 09:00:00</td>\n",
       "      <td>3</td>\n",
       "      <td>0</td>\n",
       "      <td>0</td>\n",
       "      <td>1</td>\n",
       "      <td>23.78</td>\n",
       "      <td>27.275</td>\n",
       "      <td>60</td>\n",
       "      <td>8.9981</td>\n",
       "      <td>70</td>\n",
       "      <td>226</td>\n",
       "      <td>2012</td>\n",
       "      <td>16</td>\n",
       "      <td>9</td>\n",
       "      <td>9</td>\n",
       "      <td>37</td>\n",
       "    </tr>\n",
       "    <tr>\n",
       "      <th>453</th>\n",
       "      <td>2011-02-01 23:00:00</td>\n",
       "      <td>1</td>\n",
       "      <td>0</td>\n",
       "      <td>1</td>\n",
       "      <td>3</td>\n",
       "      <td>8.20</td>\n",
       "      <td>9.850</td>\n",
       "      <td>93</td>\n",
       "      <td>12.9980</td>\n",
       "      <td>1</td>\n",
       "      <td>15</td>\n",
       "      <td>2011</td>\n",
       "      <td>1</td>\n",
       "      <td>2</td>\n",
       "      <td>23</td>\n",
       "      <td>5</td>\n",
       "    </tr>\n",
       "  </tbody>\n",
       "</table>\n",
       "</div>"
      ],
      "text/plain": [
       "                datetime  season  holiday  workingday  weather   temp   atemp  \\\n",
       "2930 2011-07-11 00:00:00       3        0           1        1  28.70  32.575   \n",
       "7669 2012-05-18 22:00:00       2        0           1        1  22.96  26.515   \n",
       "1346 2011-04-01 23:00:00       2        0           1        1  12.30  15.910   \n",
       "9432 2012-09-16 09:00:00       3        0           0        1  23.78  27.275   \n",
       "453  2011-02-01 23:00:00       1        0           1        3   8.20   9.850   \n",
       "\n",
       "      humidity  windspeed  casual  registered  year  day  month  hour  week  \n",
       "2930        65    12.9980      10          25  2011   11      7     0    28  \n",
       "7669        52    22.0028      57         194  2012   18      5    22    20  \n",
       "1346        61     6.0032      12          41  2011    1      4    23    13  \n",
       "9432        60     8.9981      70         226  2012   16      9     9    37  \n",
       "453         93    12.9980       1          15  2011    1      2    23     5  "
      ]
     },
     "execution_count": 22,
     "metadata": {},
     "output_type": "execute_result"
    }
   ],
   "source": [
    "xtrain.head()"
   ]
  },
  {
   "cell_type": "code",
   "execution_count": 23,
   "id": "50f1172d",
   "metadata": {},
   "outputs": [
    {
     "name": "stderr",
     "output_type": "stream",
     "text": [
      "C:\\Users\\Asus\\AppData\\Local\\Temp/ipykernel_28492/694522273.py:1: SettingWithCopyWarning: \n",
      "A value is trying to be set on a copy of a slice from a DataFrame.\n",
      "Try using .loc[row_indexer,col_indexer] = value instead\n",
      "\n",
      "See the caveats in the documentation: https://pandas.pydata.org/pandas-docs/stable/user_guide/indexing.html#returning-a-view-versus-a-copy\n",
      "  xtest['datetime']  = pd.to_datetime(xtest['datetime'], dayfirst = True)\n"
     ]
    }
   ],
   "source": [
    "xtest['datetime']  = pd.to_datetime(xtest['datetime'], dayfirst = True)"
   ]
  },
  {
   "cell_type": "code",
   "execution_count": 24,
   "id": "939e67c1",
   "metadata": {},
   "outputs": [
    {
     "name": "stderr",
     "output_type": "stream",
     "text": [
      "C:\\Users\\Asus\\AppData\\Local\\Temp/ipykernel_28492/1362045320.py:1: SettingWithCopyWarning: \n",
      "A value is trying to be set on a copy of a slice from a DataFrame.\n",
      "Try using .loc[row_indexer,col_indexer] = value instead\n",
      "\n",
      "See the caveats in the documentation: https://pandas.pydata.org/pandas-docs/stable/user_guide/indexing.html#returning-a-view-versus-a-copy\n",
      "  xtest['year'] = xtest['datetime'].dt.year\n"
     ]
    }
   ],
   "source": [
    "xtest['year'] = xtest['datetime'].dt.year"
   ]
  },
  {
   "cell_type": "code",
   "execution_count": 25,
   "id": "b63a7bdc",
   "metadata": {},
   "outputs": [
    {
     "name": "stderr",
     "output_type": "stream",
     "text": [
      "C:\\Users\\Asus\\AppData\\Local\\Temp/ipykernel_28492/2462744701.py:1: SettingWithCopyWarning: \n",
      "A value is trying to be set on a copy of a slice from a DataFrame.\n",
      "Try using .loc[row_indexer,col_indexer] = value instead\n",
      "\n",
      "See the caveats in the documentation: https://pandas.pydata.org/pandas-docs/stable/user_guide/indexing.html#returning-a-view-versus-a-copy\n",
      "  xtest['day'] = xtest['datetime'].dt.day\n"
     ]
    }
   ],
   "source": [
    "xtest['day'] = xtest['datetime'].dt.day"
   ]
  },
  {
   "cell_type": "code",
   "execution_count": 26,
   "id": "645215bd",
   "metadata": {},
   "outputs": [
    {
     "name": "stderr",
     "output_type": "stream",
     "text": [
      "C:\\Users\\Asus\\AppData\\Local\\Temp/ipykernel_28492/2200862996.py:1: SettingWithCopyWarning: \n",
      "A value is trying to be set on a copy of a slice from a DataFrame.\n",
      "Try using .loc[row_indexer,col_indexer] = value instead\n",
      "\n",
      "See the caveats in the documentation: https://pandas.pydata.org/pandas-docs/stable/user_guide/indexing.html#returning-a-view-versus-a-copy\n",
      "  xtest['month'] = xtest['datetime'].dt.month\n"
     ]
    }
   ],
   "source": [
    "xtest['month'] = xtest['datetime'].dt.month"
   ]
  },
  {
   "cell_type": "code",
   "execution_count": 27,
   "id": "23263277",
   "metadata": {},
   "outputs": [
    {
     "name": "stderr",
     "output_type": "stream",
     "text": [
      "C:\\Users\\Asus\\AppData\\Local\\Temp/ipykernel_28492/1217883633.py:1: SettingWithCopyWarning: \n",
      "A value is trying to be set on a copy of a slice from a DataFrame.\n",
      "Try using .loc[row_indexer,col_indexer] = value instead\n",
      "\n",
      "See the caveats in the documentation: https://pandas.pydata.org/pandas-docs/stable/user_guide/indexing.html#returning-a-view-versus-a-copy\n",
      "  xtest['hour'] = xtest['datetime'].dt.hour\n"
     ]
    }
   ],
   "source": [
    "xtest['hour'] = xtest['datetime'].dt.hour"
   ]
  },
  {
   "cell_type": "code",
   "execution_count": 28,
   "id": "a5a4f0fc",
   "metadata": {},
   "outputs": [
    {
     "name": "stderr",
     "output_type": "stream",
     "text": [
      "C:\\Users\\Asus\\AppData\\Local\\Temp/ipykernel_28492/1138733905.py:1: FutureWarning: Series.dt.weekofyear and Series.dt.week have been deprecated.  Please use Series.dt.isocalendar().week instead.\n",
      "  xtest['week'] = xtest['datetime'].dt.week\n",
      "C:\\Users\\Asus\\AppData\\Local\\Temp/ipykernel_28492/1138733905.py:1: SettingWithCopyWarning: \n",
      "A value is trying to be set on a copy of a slice from a DataFrame.\n",
      "Try using .loc[row_indexer,col_indexer] = value instead\n",
      "\n",
      "See the caveats in the documentation: https://pandas.pydata.org/pandas-docs/stable/user_guide/indexing.html#returning-a-view-versus-a-copy\n",
      "  xtest['week'] = xtest['datetime'].dt.week\n"
     ]
    }
   ],
   "source": [
    "xtest['week'] = xtest['datetime'].dt.week"
   ]
  },
  {
   "cell_type": "code",
   "execution_count": 29,
   "id": "ecf60faf",
   "metadata": {},
   "outputs": [
    {
     "data": {
      "text/html": [
       "<div>\n",
       "<style scoped>\n",
       "    .dataframe tbody tr th:only-of-type {\n",
       "        vertical-align: middle;\n",
       "    }\n",
       "\n",
       "    .dataframe tbody tr th {\n",
       "        vertical-align: top;\n",
       "    }\n",
       "\n",
       "    .dataframe thead th {\n",
       "        text-align: right;\n",
       "    }\n",
       "</style>\n",
       "<table border=\"1\" class=\"dataframe\">\n",
       "  <thead>\n",
       "    <tr style=\"text-align: right;\">\n",
       "      <th></th>\n",
       "      <th>datetime</th>\n",
       "      <th>season</th>\n",
       "      <th>holiday</th>\n",
       "      <th>workingday</th>\n",
       "      <th>weather</th>\n",
       "      <th>temp</th>\n",
       "      <th>atemp</th>\n",
       "      <th>humidity</th>\n",
       "      <th>windspeed</th>\n",
       "      <th>casual</th>\n",
       "      <th>registered</th>\n",
       "      <th>year</th>\n",
       "      <th>day</th>\n",
       "      <th>month</th>\n",
       "      <th>hour</th>\n",
       "      <th>week</th>\n",
       "    </tr>\n",
       "  </thead>\n",
       "  <tbody>\n",
       "    <tr>\n",
       "      <th>3133</th>\n",
       "      <td>2011-07-19 11:00:00</td>\n",
       "      <td>3</td>\n",
       "      <td>0</td>\n",
       "      <td>1</td>\n",
       "      <td>1</td>\n",
       "      <td>33.62</td>\n",
       "      <td>40.150</td>\n",
       "      <td>59</td>\n",
       "      <td>0.0000</td>\n",
       "      <td>29</td>\n",
       "      <td>98</td>\n",
       "      <td>2011</td>\n",
       "      <td>19</td>\n",
       "      <td>7</td>\n",
       "      <td>11</td>\n",
       "      <td>29</td>\n",
       "    </tr>\n",
       "    <tr>\n",
       "      <th>5786</th>\n",
       "      <td>2012-01-16 06:00:00</td>\n",
       "      <td>1</td>\n",
       "      <td>1</td>\n",
       "      <td>0</td>\n",
       "      <td>1</td>\n",
       "      <td>4.10</td>\n",
       "      <td>6.820</td>\n",
       "      <td>54</td>\n",
       "      <td>6.0032</td>\n",
       "      <td>0</td>\n",
       "      <td>13</td>\n",
       "      <td>2012</td>\n",
       "      <td>16</td>\n",
       "      <td>1</td>\n",
       "      <td>6</td>\n",
       "      <td>3</td>\n",
       "    </tr>\n",
       "    <tr>\n",
       "      <th>5224</th>\n",
       "      <td>2011-12-11 18:00:00</td>\n",
       "      <td>4</td>\n",
       "      <td>0</td>\n",
       "      <td>0</td>\n",
       "      <td>1</td>\n",
       "      <td>9.84</td>\n",
       "      <td>11.365</td>\n",
       "      <td>48</td>\n",
       "      <td>12.9980</td>\n",
       "      <td>12</td>\n",
       "      <td>151</td>\n",
       "      <td>2011</td>\n",
       "      <td>11</td>\n",
       "      <td>12</td>\n",
       "      <td>18</td>\n",
       "      <td>49</td>\n",
       "    </tr>\n",
       "  </tbody>\n",
       "</table>\n",
       "</div>"
      ],
      "text/plain": [
       "                datetime  season  holiday  workingday  weather   temp   atemp  \\\n",
       "3133 2011-07-19 11:00:00       3        0           1        1  33.62  40.150   \n",
       "5786 2012-01-16 06:00:00       1        1           0        1   4.10   6.820   \n",
       "5224 2011-12-11 18:00:00       4        0           0        1   9.84  11.365   \n",
       "\n",
       "      humidity  windspeed  casual  registered  year  day  month  hour  week  \n",
       "3133        59     0.0000      29          98  2011   19      7    11    29  \n",
       "5786        54     6.0032       0          13  2012   16      1     6     3  \n",
       "5224        48    12.9980      12         151  2011   11     12    18    49  "
      ]
     },
     "execution_count": 29,
     "metadata": {},
     "output_type": "execute_result"
    }
   ],
   "source": [
    "xtest.head(3)"
   ]
  },
  {
   "cell_type": "markdown",
   "id": "906ec12b",
   "metadata": {},
   "source": [
    "## Basic EDA\n",
    "\n",
    "#### Visualizing Count Vs various parameters "
   ]
  },
  {
   "cell_type": "code",
   "execution_count": 30,
   "id": "d9f7320d",
   "metadata": {},
   "outputs": [
    {
     "data": {
      "text/plain": [
       "Text(0, 0.5, 'Total_Counts')"
      ]
     },
     "execution_count": 30,
     "metadata": {},
     "output_type": "execute_result"
    },
    {
     "data": {
      "image/png": "[encoded data removed]",
      "text/plain": [
       "<Figure size 1080x576 with 1 Axes>"
      ]
     },
     "metadata": {},
     "output_type": "display_data"
    }
   ],
   "source": [
    "sns.set_theme(context='notebook',\n",
    "    style='darkgrid',\n",
    "    palette='deep',\n",
    "    font='sans-serif',\n",
    "    font_scale=1,\n",
    "    color_codes=True,\n",
    "    rc=None)\n",
    "fig_dims = (15,8 )\n",
    "fig, ax = plt.subplots(figsize=fig_dims)\n",
    "sns.boxplot(x = xtrain['hour'], y = (xtrain['casual'] + xtrain['registered']), ax= ax)\n",
    "sns.lineplot(x = xtrain['hour'], y = (xtrain['casual'] + xtrain['registered']), ax =ax)\n",
    "plt.ylabel('Total_Counts')\n"
   ]
  },
  {
   "cell_type": "code",
   "execution_count": 31,
   "id": "4e9781ee",
   "metadata": {},
   "outputs": [
    {
     "data": {
      "text/plain": [
       "Text(0, 0.5, 'Total_Counts')"
      ]
     },
     "execution_count": 31,
     "metadata": {},
     "output_type": "execute_result"
    },
    {
     "data": {
      "image/png": "[encoded data removed]",
      "text/plain": [
       "<Figure size 1080x576 with 1 Axes>"
      ]
     },
     "metadata": {},
     "output_type": "display_data"
    }
   ],
   "source": [
    "sns.set_theme(context='notebook',\n",
    "    style='darkgrid',\n",
    "    palette='deep',\n",
    "    font='sans-serif',\n",
    "    font_scale=1,\n",
    "    color_codes=True,\n",
    "    rc=None)\n",
    "fig_dims = (15,8 )\n",
    "fig, ax = plt.subplots(figsize=fig_dims)\n",
    "sns.boxplot(x = xtrain['month'], y = (xtrain['casual'] + xtrain['registered']), ax =ax)\n",
    "sns.lineplot(x = xtrain['month'], y = (xtrain['casual'] + xtrain['registered']), ax =ax)\n",
    "plt.ylabel('Total_Counts')"
   ]
  },
  {
   "cell_type": "code",
   "execution_count": 32,
   "id": "ac113216",
   "metadata": {},
   "outputs": [
    {
     "data": {
      "text/plain": [
       "Text(0, 0.5, 'Total_Counts')"
      ]
     },
     "execution_count": 32,
     "metadata": {},
     "output_type": "execute_result"
    },
    {
     "data": {
      "image/png": "[encoded data removed]",
      "text/plain": [
       "<Figure size 1080x576 with 1 Axes>"
      ]
     },
     "metadata": {},
     "output_type": "display_data"
    }
   ],
   "source": [
    "sns.set_theme(context='notebook',\n",
    "    style=\"whitegrid\",\n",
    "    font='sans-serif',\n",
    "    font_scale=1,\n",
    "    color_codes=True,\n",
    "    rc=None)\n",
    "fig_dims = (15,8 )\n",
    "fig, ax = plt.subplots(figsize=fig_dims)\n",
    "sns.boxplot(x = xtrain['hour'], y = (xtrain['casual'] + xtrain['registered']), hue = xtrain['workingday'] , ax = ax)\n",
    "sns.lineplot(x = xtrain['hour'], y = (xtrain['casual'] + xtrain['registered']), hue = xtrain['workingday'] , ax = ax)\n",
    "plt.ylabel('Total_Counts')"
   ]
  },
  {
   "cell_type": "code",
   "execution_count": 33,
   "id": "513a358e",
   "metadata": {},
   "outputs": [
    {
     "data": {
      "text/plain": [
       "Text(0, 0.5, 'Total_Counts')"
      ]
     },
     "execution_count": 33,
     "metadata": {},
     "output_type": "execute_result"
    },
    {
     "data": {
      "image/png": "[encoded data removed]",
      "text/plain": [
       "<Figure size 1080x576 with 1 Axes>"
      ]
     },
     "metadata": {},
     "output_type": "display_data"
    }
   ],
   "source": [
    "sns.set_theme(context='notebook',\n",
    "    style=\"whitegrid\",\n",
    "    font='sans-serif',\n",
    "    font_scale=1,\n",
    "    color_codes=True,\n",
    "    rc=None)\n",
    "fig_dims = (15,8 )\n",
    "fig, ax = plt.subplots(figsize=fig_dims)\n",
    "sns.boxplot(x = xtrain['hour'], y = (xtrain['casual'] + xtrain['registered']), hue = xtrain['holiday'] , ax = ax)\n",
    "sns.lineplot(x = xtrain['hour'], y = (xtrain['casual'] + xtrain['registered']), hue = xtrain['holiday'] , ax = ax)\n",
    "plt.ylabel('Total_Counts')"
   ]
  },
  {
   "cell_type": "code",
   "execution_count": 34,
   "id": "5752f526",
   "metadata": {},
   "outputs": [
    {
     "data": {
      "text/plain": [
       "Text(0, 0.5, 'Total_Counts')"
      ]
     },
     "execution_count": 34,
     "metadata": {},
     "output_type": "execute_result"
    },
    {
     "data": {
      "image/png": "[encoded data removed]",
      "text/plain": [
       "<Figure size 1080x576 with 1 Axes>"
      ]
     },
     "metadata": {},
     "output_type": "display_data"
    }
   ],
   "source": [
    "sns.set_theme(context='notebook',\n",
    "    style=\"whitegrid\",\n",
    "    font='sans-serif',\n",
    "    font_scale=1,\n",
    "    color_codes=True,\n",
    "    rc=None)\n",
    "fig_dims = (15,8 )\n",
    "fig, ax = plt.subplots(figsize=fig_dims)\n",
    "sns.boxplot(x = xtrain['month'], y = (xtrain['casual'] + xtrain['registered']), hue = xtrain['weather'] , ax = ax)\n",
    "#sns.lineplot(x = xtrain['month'], y = (xtrain['casual'] + xtrain['registered']), hue = xtrain['weather'] , ax = ax)\n",
    "plt.ylabel('Total_Counts')"
   ]
  },
  {
   "cell_type": "code",
   "execution_count": 35,
   "id": "0052fe78",
   "metadata": {},
   "outputs": [
    {
     "data": {
      "text/plain": [
       "<matplotlib.legend.Legend at 0x2586c0d95e0>"
      ]
     },
     "execution_count": 35,
     "metadata": {},
     "output_type": "execute_result"
    },
    {
     "data": {
      "image/png": "[encoded data removed]",
      "text/plain": [
       "<Figure size 1080x576 with 1 Axes>"
      ]
     },
     "metadata": {},
     "output_type": "display_data"
    }
   ],
   "source": [
    "sns.set_theme(context='notebook',\n",
    "    style=\"whitegrid\",\n",
    "    font='sans-serif',\n",
    "    font_scale=1,\n",
    "    color_codes=True,\n",
    "    rc=None)\n",
    "fig_dims = (15,8 )\n",
    "fig, ax = plt.subplots(figsize=fig_dims)\n",
    "\n",
    "font = {'family': 'serif',\n",
    "        'color':  'black',\n",
    "        'weight': 'normal',\n",
    "        'size': 16,\n",
    "        }\n",
    "\n",
    "hourly_counts = xtrain.groupby(by = ['hour']).sum()\n",
    "hourly_counts.head()\n",
    "hourly_counts.reset_index(inplace=True)\n",
    "\n",
    "\n",
    "#ax.plot(hourly_counts['hour'], hourly_counts['casual'], 'bo', hourly_counts['hour'], hourly_counts['registered'], 'r+' )\n",
    "sns.lineplot(x = hourly_counts['hour'], y = hourly_counts['casual'], markers= '*', ax = ax )\n",
    "sns.lineplot(x = hourly_counts['hour'], y = hourly_counts['registered'],markers= '*', ax = ax)\n",
    "#sns.scatterplot(x = hourly_counts['hour'], y = hourly_counts['casual'], ax = ax )\n",
    "#sns.scatterplot(x = hourly_counts['hour'], y = hourly_counts['registered'], ax = ax)\n",
    "plt.xlabel(r'$Hours$ $(hr)$', fontdict = font)\n",
    "plt.ylabel(r'$Counts$ ', fontdict = font)\n",
    "plt.xticks(np.arange(hourly_counts['hour'].min(), (hourly_counts['hour'].max()+1), 1), fontsize = 14)\n",
    "plt.yticks(fontsize = 14)\n",
    "plt.legend(['casual','registered'], prop={\"size\":16})\n"
   ]
  },
  {
   "cell_type": "code",
   "execution_count": 36,
   "id": "fd3ae0b1",
   "metadata": {},
   "outputs": [],
   "source": [
    "monthly_counts = xtrain.groupby(by = ['month']).sum()\n",
    "monthly_counts.head()\n",
    "monthly_counts.reset_index(inplace=True)"
   ]
  },
  {
   "cell_type": "code",
   "execution_count": 37,
   "id": "423e3c78",
   "metadata": {},
   "outputs": [
    {
     "data": {
      "text/html": [
       "<div>\n",
       "<style scoped>\n",
       "    .dataframe tbody tr th:only-of-type {\n",
       "        vertical-align: middle;\n",
       "    }\n",
       "\n",
       "    .dataframe tbody tr th {\n",
       "        vertical-align: top;\n",
       "    }\n",
       "\n",
       "    .dataframe thead th {\n",
       "        text-align: right;\n",
       "    }\n",
       "</style>\n",
       "<table border=\"1\" class=\"dataframe\">\n",
       "  <thead>\n",
       "    <tr style=\"text-align: right;\">\n",
       "      <th></th>\n",
       "      <th>month</th>\n",
       "      <th>season</th>\n",
       "      <th>holiday</th>\n",
       "      <th>workingday</th>\n",
       "      <th>weather</th>\n",
       "      <th>temp</th>\n",
       "      <th>atemp</th>\n",
       "      <th>humidity</th>\n",
       "      <th>windspeed</th>\n",
       "      <th>casual</th>\n",
       "      <th>registered</th>\n",
       "      <th>year</th>\n",
       "      <th>day</th>\n",
       "      <th>hour</th>\n",
       "      <th>week</th>\n",
       "    </tr>\n",
       "  </thead>\n",
       "  <tbody>\n",
       "    <tr>\n",
       "      <th>0</th>\n",
       "      <td>1</td>\n",
       "      <td>650</td>\n",
       "      <td>55</td>\n",
       "      <td>394</td>\n",
       "      <td>901</td>\n",
       "      <td>6353.36</td>\n",
       "      <td>7809.900</td>\n",
       "      <td>36059</td>\n",
       "      <td>9391.2359</td>\n",
       "      <td>5413</td>\n",
       "      <td>53579</td>\n",
       "      <td>1307479</td>\n",
       "      <td>6306</td>\n",
       "      <td>7779</td>\n",
       "      <td>3642</td>\n",
       "    </tr>\n",
       "    <tr>\n",
       "      <th>1</th>\n",
       "      <td>2</td>\n",
       "      <td>678</td>\n",
       "      <td>0</td>\n",
       "      <td>479</td>\n",
       "      <td>985</td>\n",
       "      <td>8050.76</td>\n",
       "      <td>9941.615</td>\n",
       "      <td>38308</td>\n",
       "      <td>9280.2437</td>\n",
       "      <td>7431</td>\n",
       "      <td>68925</td>\n",
       "      <td>1363815</td>\n",
       "      <td>6826</td>\n",
       "      <td>7815</td>\n",
       "      <td>4111</td>\n",
       "    </tr>\n",
       "    <tr>\n",
       "      <th>2</th>\n",
       "      <td>3</td>\n",
       "      <td>679</td>\n",
       "      <td>0</td>\n",
       "      <td>481</td>\n",
       "      <td>959</td>\n",
       "      <td>10778.90</td>\n",
       "      <td>12880.795</td>\n",
       "      <td>38305</td>\n",
       "      <td>10529.1840</td>\n",
       "      <td>18103</td>\n",
       "      <td>81535</td>\n",
       "      <td>1365808</td>\n",
       "      <td>6693</td>\n",
       "      <td>7849</td>\n",
       "      <td>6864</td>\n",
       "    </tr>\n",
       "    <tr>\n",
       "      <th>3</th>\n",
       "      <td>4</td>\n",
       "      <td>1330</td>\n",
       "      <td>36</td>\n",
       "      <td>435</td>\n",
       "      <td>949</td>\n",
       "      <td>12491.06</td>\n",
       "      <td>14885.265</td>\n",
       "      <td>37106</td>\n",
       "      <td>10464.1806</td>\n",
       "      <td>28266</td>\n",
       "      <td>90702</td>\n",
       "      <td>1337646</td>\n",
       "      <td>6714</td>\n",
       "      <td>7638</td>\n",
       "      <td>9703</td>\n",
       "    </tr>\n",
       "    <tr>\n",
       "      <th>4</th>\n",
       "      <td>5</td>\n",
       "      <td>1398</td>\n",
       "      <td>0</td>\n",
       "      <td>525</td>\n",
       "      <td>1068</td>\n",
       "      <td>15862.08</td>\n",
       "      <td>18623.535</td>\n",
       "      <td>47303</td>\n",
       "      <td>8783.0970</td>\n",
       "      <td>31771</td>\n",
       "      <td>123765</td>\n",
       "      <td>1406039</td>\n",
       "      <td>7037</td>\n",
       "      <td>8114</td>\n",
       "      <td>13202</td>\n",
       "    </tr>\n",
       "  </tbody>\n",
       "</table>\n",
       "</div>"
      ],
      "text/plain": [
       "   month  season  holiday  workingday  weather      temp      atemp  humidity  \\\n",
       "0      1     650       55         394      901   6353.36   7809.900     36059   \n",
       "1      2     678        0         479      985   8050.76   9941.615     38308   \n",
       "2      3     679        0         481      959  10778.90  12880.795     38305   \n",
       "3      4    1330       36         435      949  12491.06  14885.265     37106   \n",
       "4      5    1398        0         525     1068  15862.08  18623.535     47303   \n",
       "\n",
       "    windspeed  casual  registered     year   day  hour   week  \n",
       "0   9391.2359    5413       53579  1307479  6306  7779   3642  \n",
       "1   9280.2437    7431       68925  1363815  6826  7815   4111  \n",
       "2  10529.1840   18103       81535  1365808  6693  7849   6864  \n",
       "3  10464.1806   28266       90702  1337646  6714  7638   9703  \n",
       "4   8783.0970   31771      123765  1406039  7037  8114  13202  "
      ]
     },
     "execution_count": 37,
     "metadata": {},
     "output_type": "execute_result"
    }
   ],
   "source": [
    "monthly_counts.head()"
   ]
  },
  {
   "cell_type": "code",
   "execution_count": 38,
   "id": "6741000e",
   "metadata": {},
   "outputs": [
    {
     "data": {
      "text/plain": [
       "<matplotlib.legend.Legend at 0x2586c24ef10>"
      ]
     },
     "execution_count": 38,
     "metadata": {},
     "output_type": "execute_result"
    },
    {
     "data": {
      "image/png": "[encoded data removed]",
      "text/plain": [
       "<Figure size 1080x576 with 1 Axes>"
      ]
     },
     "metadata": {},
     "output_type": "display_data"
    }
   ],
   "source": [
    "sns.set_theme(context='notebook',\n",
    "    style=\"whitegrid\",\n",
    "    font='sans-serif',\n",
    "    font_scale=1,\n",
    "    color_codes=True,\n",
    "    rc=None)\n",
    "fig_dims = (15,8 )\n",
    "fig, ax = plt.subplots(figsize=fig_dims)\n",
    "\n",
    "font = {'family': 'serif',\n",
    "        'color':  'black',\n",
    "        'weight': 'normal',\n",
    "        'size': 16,\n",
    "        }\n",
    "\n",
    "\n",
    "\n",
    "sns.lineplot(x = monthly_counts['month'], y = monthly_counts['casual'], markers= '*', ax = ax )\n",
    "sns.lineplot(x = monthly_counts['month'], y = monthly_counts['registered'],markers= '*', ax = ax)\n",
    "\n",
    "plt.xlabel(r'$Month$ ', fontdict = font)\n",
    "plt.ylabel(r'$Counts$ ', fontdict = font)\n",
    "plt.xticks(np.arange(monthly_counts['month'].min(), (monthly_counts['month'].max()+1), 1), fontsize = 14)\n",
    "plt.yticks(fontsize = 14)\n",
    "plt.legend(['casual','registered'], prop={\"size\":16})"
   ]
  },
  {
   "cell_type": "code",
   "execution_count": 39,
   "id": "db9c5b88",
   "metadata": {},
   "outputs": [],
   "source": [
    "#monthly_counts.head()"
   ]
  },
  {
   "cell_type": "code",
   "execution_count": 40,
   "id": "42d9da7a",
   "metadata": {},
   "outputs": [
    {
     "data": {
      "text/html": [
       "<div>\n",
       "<style scoped>\n",
       "    .dataframe tbody tr th:only-of-type {\n",
       "        vertical-align: middle;\n",
       "    }\n",
       "\n",
       "    .dataframe tbody tr th {\n",
       "        vertical-align: top;\n",
       "    }\n",
       "\n",
       "    .dataframe thead th {\n",
       "        text-align: right;\n",
       "    }\n",
       "</style>\n",
       "<table border=\"1\" class=\"dataframe\">\n",
       "  <thead>\n",
       "    <tr style=\"text-align: right;\">\n",
       "      <th></th>\n",
       "      <th>datetime</th>\n",
       "      <th>season</th>\n",
       "      <th>holiday</th>\n",
       "      <th>workingday</th>\n",
       "      <th>weather</th>\n",
       "      <th>temp</th>\n",
       "      <th>atemp</th>\n",
       "      <th>humidity</th>\n",
       "      <th>windspeed</th>\n",
       "      <th>casual</th>\n",
       "      <th>registered</th>\n",
       "      <th>year</th>\n",
       "      <th>day</th>\n",
       "      <th>month</th>\n",
       "      <th>hour</th>\n",
       "      <th>week</th>\n",
       "    </tr>\n",
       "  </thead>\n",
       "  <tbody>\n",
       "    <tr>\n",
       "      <th>2930</th>\n",
       "      <td>2011-07-11 00:00:00</td>\n",
       "      <td>3</td>\n",
       "      <td>0</td>\n",
       "      <td>1</td>\n",
       "      <td>1</td>\n",
       "      <td>28.70</td>\n",
       "      <td>32.575</td>\n",
       "      <td>65</td>\n",
       "      <td>12.9980</td>\n",
       "      <td>10</td>\n",
       "      <td>25</td>\n",
       "      <td>2011</td>\n",
       "      <td>11</td>\n",
       "      <td>7</td>\n",
       "      <td>0</td>\n",
       "      <td>28</td>\n",
       "    </tr>\n",
       "    <tr>\n",
       "      <th>7669</th>\n",
       "      <td>2012-05-18 22:00:00</td>\n",
       "      <td>2</td>\n",
       "      <td>0</td>\n",
       "      <td>1</td>\n",
       "      <td>1</td>\n",
       "      <td>22.96</td>\n",
       "      <td>26.515</td>\n",
       "      <td>52</td>\n",
       "      <td>22.0028</td>\n",
       "      <td>57</td>\n",
       "      <td>194</td>\n",
       "      <td>2012</td>\n",
       "      <td>18</td>\n",
       "      <td>5</td>\n",
       "      <td>22</td>\n",
       "      <td>20</td>\n",
       "    </tr>\n",
       "    <tr>\n",
       "      <th>1346</th>\n",
       "      <td>2011-04-01 23:00:00</td>\n",
       "      <td>2</td>\n",
       "      <td>0</td>\n",
       "      <td>1</td>\n",
       "      <td>1</td>\n",
       "      <td>12.30</td>\n",
       "      <td>15.910</td>\n",
       "      <td>61</td>\n",
       "      <td>6.0032</td>\n",
       "      <td>12</td>\n",
       "      <td>41</td>\n",
       "      <td>2011</td>\n",
       "      <td>1</td>\n",
       "      <td>4</td>\n",
       "      <td>23</td>\n",
       "      <td>13</td>\n",
       "    </tr>\n",
       "    <tr>\n",
       "      <th>9432</th>\n",
       "      <td>2012-09-16 09:00:00</td>\n",
       "      <td>3</td>\n",
       "      <td>0</td>\n",
       "      <td>0</td>\n",
       "      <td>1</td>\n",
       "      <td>23.78</td>\n",
       "      <td>27.275</td>\n",
       "      <td>60</td>\n",
       "      <td>8.9981</td>\n",
       "      <td>70</td>\n",
       "      <td>226</td>\n",
       "      <td>2012</td>\n",
       "      <td>16</td>\n",
       "      <td>9</td>\n",
       "      <td>9</td>\n",
       "      <td>37</td>\n",
       "    </tr>\n",
       "    <tr>\n",
       "      <th>453</th>\n",
       "      <td>2011-02-01 23:00:00</td>\n",
       "      <td>1</td>\n",
       "      <td>0</td>\n",
       "      <td>1</td>\n",
       "      <td>3</td>\n",
       "      <td>8.20</td>\n",
       "      <td>9.850</td>\n",
       "      <td>93</td>\n",
       "      <td>12.9980</td>\n",
       "      <td>1</td>\n",
       "      <td>15</td>\n",
       "      <td>2011</td>\n",
       "      <td>1</td>\n",
       "      <td>2</td>\n",
       "      <td>23</td>\n",
       "      <td>5</td>\n",
       "    </tr>\n",
       "  </tbody>\n",
       "</table>\n",
       "</div>"
      ],
      "text/plain": [
       "                datetime  season  holiday  workingday  weather   temp   atemp  \\\n",
       "2930 2011-07-11 00:00:00       3        0           1        1  28.70  32.575   \n",
       "7669 2012-05-18 22:00:00       2        0           1        1  22.96  26.515   \n",
       "1346 2011-04-01 23:00:00       2        0           1        1  12.30  15.910   \n",
       "9432 2012-09-16 09:00:00       3        0           0        1  23.78  27.275   \n",
       "453  2011-02-01 23:00:00       1        0           1        3   8.20   9.850   \n",
       "\n",
       "      humidity  windspeed  casual  registered  year  day  month  hour  week  \n",
       "2930        65    12.9980      10          25  2011   11      7     0    28  \n",
       "7669        52    22.0028      57         194  2012   18      5    22    20  \n",
       "1346        61     6.0032      12          41  2011    1      4    23    13  \n",
       "9432        60     8.9981      70         226  2012   16      9     9    37  \n",
       "453         93    12.9980       1          15  2011    1      2    23     5  "
      ]
     },
     "execution_count": 40,
     "metadata": {},
     "output_type": "execute_result"
    }
   ],
   "source": [
    "xtrain.head()"
   ]
  },
  {
   "cell_type": "code",
   "execution_count": 41,
   "id": "fd7f5367",
   "metadata": {},
   "outputs": [
    {
     "name": "stderr",
     "output_type": "stream",
     "text": [
      "C:\\Users\\Asus\\AppData\\Local\\Temp/ipykernel_28492/2136762159.py:1: FutureWarning: Indexing with multiple keys (implicitly converted to a tuple of keys) will be deprecated, use a list instead.\n",
      "  grp_weather = xtrain.groupby(by = ['weather'])['casual','registered'].sum()\n"
     ]
    }
   ],
   "source": [
    "grp_weather = xtrain.groupby(by = ['weather'])['casual','registered'].sum()\n",
    "grp_weather.head()\n",
    "grp_weather.reset_index(inplace=True)"
   ]
  },
  {
   "cell_type": "code",
   "execution_count": 42,
   "id": "c527ee1c",
   "metadata": {},
   "outputs": [
    {
     "data": {
      "text/html": [
       "<div>\n",
       "<style scoped>\n",
       "    .dataframe tbody tr th:only-of-type {\n",
       "        vertical-align: middle;\n",
       "    }\n",
       "\n",
       "    .dataframe tbody tr th {\n",
       "        vertical-align: top;\n",
       "    }\n",
       "\n",
       "    .dataframe thead th {\n",
       "        text-align: right;\n",
       "    }\n",
       "</style>\n",
       "<table border=\"1\" class=\"dataframe\">\n",
       "  <thead>\n",
       "    <tr style=\"text-align: right;\">\n",
       "      <th></th>\n",
       "      <th>weather</th>\n",
       "      <th>casual</th>\n",
       "      <th>registered</th>\n",
       "    </tr>\n",
       "  </thead>\n",
       "  <tbody>\n",
       "    <tr>\n",
       "      <th>0</th>\n",
       "      <td>1</td>\n",
       "      <td>216067</td>\n",
       "      <td>892597</td>\n",
       "    </tr>\n",
       "    <tr>\n",
       "      <th>1</th>\n",
       "      <td>2</td>\n",
       "      <td>65806</td>\n",
       "      <td>311525</td>\n",
       "    </tr>\n",
       "    <tr>\n",
       "      <th>2</th>\n",
       "      <td>3</td>\n",
       "      <td>11102</td>\n",
       "      <td>64837</td>\n",
       "    </tr>\n",
       "    <tr>\n",
       "      <th>3</th>\n",
       "      <td>4</td>\n",
       "      <td>6</td>\n",
       "      <td>158</td>\n",
       "    </tr>\n",
       "  </tbody>\n",
       "</table>\n",
       "</div>"
      ],
      "text/plain": [
       "   weather  casual  registered\n",
       "0        1  216067      892597\n",
       "1        2   65806      311525\n",
       "2        3   11102       64837\n",
       "3        4       6         158"
      ]
     },
     "execution_count": 42,
     "metadata": {},
     "output_type": "execute_result"
    }
   ],
   "source": [
    "grp_weather.head()"
   ]
  },
  {
   "cell_type": "code",
   "execution_count": 43,
   "id": "ec536da0",
   "metadata": {},
   "outputs": [
    {
     "data": {
      "text/plain": [
       "<AxesSubplot:xlabel='weather', ylabel='casual'>"
      ]
     },
     "execution_count": 43,
     "metadata": {},
     "output_type": "execute_result"
    },
    {
     "data": {
      "image/png": "[encoded data removed]",
      "text/plain": [
       "<Figure size 432x288 with 2 Axes>"
      ]
     },
     "metadata": {},
     "output_type": "display_data"
    }
   ],
   "source": [
    "fig, axes = plt.subplots(1, 2)\n",
    "\n",
    "sns.barplot(data = grp_weather, x  = 'weather', y  ='registered', ax = axes[0])\n",
    "plt.subplots_adjust(hspace = 0.8, wspace = 0.5)\n",
    "sns.barplot(data = grp_weather, x  = 'weather', y  ='casual',ax = axes[1])"
   ]
  },
  {
   "cell_type": "code",
   "execution_count": 44,
   "id": "c6b3974d",
   "metadata": {},
   "outputs": [
    {
     "name": "stderr",
     "output_type": "stream",
     "text": [
      "C:\\Users\\Asus\\AppData\\Local\\Temp/ipykernel_28492/3434832368.py:1: FutureWarning: Indexing with multiple keys (implicitly converted to a tuple of keys) will be deprecated, use a list instead.\n",
      "  grp_season = xtrain.groupby(by = ['season'])['casual','registered'].sum()\n"
     ]
    }
   ],
   "source": [
    "grp_season = xtrain.groupby(by = ['season'])['casual','registered'].sum()\n",
    "grp_season.head()\n",
    "grp_season.reset_index(inplace=True)"
   ]
  },
  {
   "cell_type": "code",
   "execution_count": 45,
   "id": "90ce0243",
   "metadata": {},
   "outputs": [
    {
     "data": {
      "text/plain": [
       "<AxesSubplot:xlabel='season', ylabel='casual'>"
      ]
     },
     "execution_count": 45,
     "metadata": {},
     "output_type": "execute_result"
    },
    {
     "data": {
      "image/png": "[encoded data removed]",
      "text/plain": [
       "<Figure size 432x288 with 2 Axes>"
      ]
     },
     "metadata": {},
     "output_type": "display_data"
    }
   ],
   "source": [
    "fig, axes = plt.subplots(1, 2)\n",
    "sns.barplot(data = grp_season, x  = 'season', y  ='registered', ax = axes[0])\n",
    "plt.subplots_adjust(hspace = 0.8, wspace = 0.5)\n",
    "sns.barplot(data = grp_season, x  = 'season', y  ='casual', ax = axes[1])"
   ]
  },
  {
   "cell_type": "code",
   "execution_count": 46,
   "id": "6c49cab1",
   "metadata": {},
   "outputs": [
    {
     "name": "stderr",
     "output_type": "stream",
     "text": [
      "C:\\Users\\Asus\\AppData\\Local\\Temp/ipykernel_28492/2629218307.py:1: FutureWarning: Indexing with multiple keys (implicitly converted to a tuple of keys) will be deprecated, use a list instead.\n",
      "  grp_holiday = xtrain.groupby(by = ['holiday'])['casual','registered'].sum()\n"
     ]
    }
   ],
   "source": [
    "grp_holiday = xtrain.groupby(by = ['holiday'])['casual','registered'].sum()\n",
    "grp_holiday.reset_index(inplace=True)"
   ]
  },
  {
   "cell_type": "code",
   "execution_count": 47,
   "id": "17c21c7d",
   "metadata": {},
   "outputs": [
    {
     "data": {
      "text/html": [
       "<div>\n",
       "<style scoped>\n",
       "    .dataframe tbody tr th:only-of-type {\n",
       "        vertical-align: middle;\n",
       "    }\n",
       "\n",
       "    .dataframe tbody tr th {\n",
       "        vertical-align: top;\n",
       "    }\n",
       "\n",
       "    .dataframe thead th {\n",
       "        text-align: right;\n",
       "    }\n",
       "</style>\n",
       "<table border=\"1\" class=\"dataframe\">\n",
       "  <thead>\n",
       "    <tr style=\"text-align: right;\">\n",
       "      <th></th>\n",
       "      <th>holiday</th>\n",
       "      <th>casual</th>\n",
       "      <th>registered</th>\n",
       "    </tr>\n",
       "  </thead>\n",
       "  <tbody>\n",
       "    <tr>\n",
       "      <th>0</th>\n",
       "      <td>0</td>\n",
       "      <td>281062</td>\n",
       "      <td>1236803</td>\n",
       "    </tr>\n",
       "    <tr>\n",
       "      <th>1</th>\n",
       "      <td>1</td>\n",
       "      <td>11919</td>\n",
       "      <td>32314</td>\n",
       "    </tr>\n",
       "  </tbody>\n",
       "</table>\n",
       "</div>"
      ],
      "text/plain": [
       "   holiday  casual  registered\n",
       "0        0  281062     1236803\n",
       "1        1   11919       32314"
      ]
     },
     "execution_count": 47,
     "metadata": {},
     "output_type": "execute_result"
    }
   ],
   "source": [
    "grp_holiday.head()"
   ]
  },
  {
   "cell_type": "code",
   "execution_count": 48,
   "id": "c6854240",
   "metadata": {},
   "outputs": [
    {
     "data": {
      "text/plain": [
       "<AxesSubplot:xlabel='holiday', ylabel='registered'>"
      ]
     },
     "execution_count": 48,
     "metadata": {},
     "output_type": "execute_result"
    },
    {
     "data": {
      "image/png": "[encoded data removed]",
      "text/plain": [
       "<Figure size 432x288 with 2 Axes>"
      ]
     },
     "metadata": {},
     "output_type": "display_data"
    }
   ],
   "source": [
    "\n",
    "fig, axes = plt.subplots(1, 2)\n",
    "sns.barplot(data = grp_holiday, x  = 'holiday', y  ='casual', ax = axes[0])\n",
    "plt.subplots_adjust(hspace = 0.8, wspace = 0.3)\n",
    "sns.barplot(data = grp_holiday, x  = 'holiday', y  ='registered', ax = axes[1])"
   ]
  },
  {
   "cell_type": "code",
   "execution_count": 49,
   "id": "d1f96a75",
   "metadata": {},
   "outputs": [
    {
     "data": {
      "text/plain": [
       "<AxesSubplot:xlabel='humidity', ylabel='Count'>"
      ]
     },
     "execution_count": 49,
     "metadata": {},
     "output_type": "execute_result"
    },
    {
     "data": {
      "image/png": "[encoded data removed]",
      "text/plain": [
       "<Figure size 432x288 with 1 Axes>"
      ]
     },
     "metadata": {},
     "output_type": "display_data"
    }
   ],
   "source": [
    "sns.histplot(data = xtrain, x  = 'humidity', bins= 20)"
   ]
  },
  {
   "cell_type": "code",
   "execution_count": 50,
   "id": "19f6715d",
   "metadata": {},
   "outputs": [
    {
     "data": {
      "text/plain": [
       "<AxesSubplot:xlabel='temp', ylabel='Count'>"
      ]
     },
     "execution_count": 50,
     "metadata": {},
     "output_type": "execute_result"
    },
    {
     "data": {
      "image/png": "[encoded data removed]",
      "text/plain": [
       "<Figure size 432x288 with 1 Axes>"
      ]
     },
     "metadata": {},
     "output_type": "display_data"
    }
   ],
   "source": [
    "sns.histplot(data = xtrain, x  = 'temp', bins= 20)"
   ]
  },
  {
   "cell_type": "markdown",
   "id": "64cd78c7",
   "metadata": {},
   "source": [
    "#### Short summary from the EDA\n",
    "##### 1. On the weekdays the bike rental demand is pretty high during the mornings (7AM to 10AM) and evenings (4PM tp 7PM)  this is the time when many plan a commute to and fro from home - offices, schools and collegs .Whereas the unregistered users have generated demand during later morning to evenings which can be clearley seen in above plots.\n",
    "##### 2. for non-working days and holidays the demand looks the same and its mainly generated during later mornings to evenings.\n",
    "##### 3. It looks quiet obvious that people tend to rent bike during summer and spring part of the year as it is really comfortable to ride bike during those season, hence we see realy high demand in bicycle rental durin the month from May to October (this deman is mainly generated by registered users). \n",
    "##### 4. Looking at the monthly deman for both registered and casual (non registered users) we almost 5 times hihger deman for registered users.\n",
    "\n"
   ]
  },
  {
   "cell_type": "code",
   "execution_count": 51,
   "id": "d99a9703",
   "metadata": {},
   "outputs": [
    {
     "data": {
      "text/plain": [
       "Index(['datetime', 'season', 'holiday', 'workingday', 'weather', 'temp',\n",
       "       'atemp', 'humidity', 'windspeed', 'casual', 'registered', 'year', 'day',\n",
       "       'month', 'hour', 'week'],\n",
       "      dtype='object')"
      ]
     },
     "execution_count": 51,
     "metadata": {},
     "output_type": "execute_result"
    }
   ],
   "source": [
    "xtrain.columns "
   ]
  },
  {
   "cell_type": "code",
   "execution_count": 52,
   "id": "23f37d47",
   "metadata": {},
   "outputs": [
    {
     "data": {
      "text/plain": [
       "Index(['datetime', 'season', 'holiday', 'workingday', 'weather', 'temp',\n",
       "       'atemp', 'humidity', 'windspeed', 'casual', 'registered', 'count'],\n",
       "      dtype='object')"
      ]
     },
     "execution_count": 52,
     "metadata": {},
     "output_type": "execute_result"
    }
   ],
   "source": [
    "df.columns"
   ]
  },
  {
   "cell_type": "code",
   "execution_count": 53,
   "id": "e8260f97",
   "metadata": {},
   "outputs": [
    {
     "data": {
      "text/html": [
       "<div>\n",
       "<style scoped>\n",
       "    .dataframe tbody tr th:only-of-type {\n",
       "        vertical-align: middle;\n",
       "    }\n",
       "\n",
       "    .dataframe tbody tr th {\n",
       "        vertical-align: top;\n",
       "    }\n",
       "\n",
       "    .dataframe thead th {\n",
       "        text-align: right;\n",
       "    }\n",
       "</style>\n",
       "<table border=\"1\" class=\"dataframe\">\n",
       "  <thead>\n",
       "    <tr style=\"text-align: right;\">\n",
       "      <th></th>\n",
       "      <th>season</th>\n",
       "      <th>holiday</th>\n",
       "      <th>workingday</th>\n",
       "      <th>weather</th>\n",
       "      <th>temp</th>\n",
       "      <th>atemp</th>\n",
       "      <th>humidity</th>\n",
       "      <th>windspeed</th>\n",
       "      <th>casual</th>\n",
       "      <th>registered</th>\n",
       "      <th>year</th>\n",
       "      <th>day</th>\n",
       "      <th>month</th>\n",
       "      <th>hour</th>\n",
       "      <th>week</th>\n",
       "    </tr>\n",
       "  </thead>\n",
       "  <tbody>\n",
       "    <tr>\n",
       "      <th>2930</th>\n",
       "      <td>3</td>\n",
       "      <td>0</td>\n",
       "      <td>1</td>\n",
       "      <td>1</td>\n",
       "      <td>28.70</td>\n",
       "      <td>32.575</td>\n",
       "      <td>65</td>\n",
       "      <td>12.9980</td>\n",
       "      <td>10</td>\n",
       "      <td>25</td>\n",
       "      <td>2011</td>\n",
       "      <td>11</td>\n",
       "      <td>7</td>\n",
       "      <td>0</td>\n",
       "      <td>28</td>\n",
       "    </tr>\n",
       "    <tr>\n",
       "      <th>7669</th>\n",
       "      <td>2</td>\n",
       "      <td>0</td>\n",
       "      <td>1</td>\n",
       "      <td>1</td>\n",
       "      <td>22.96</td>\n",
       "      <td>26.515</td>\n",
       "      <td>52</td>\n",
       "      <td>22.0028</td>\n",
       "      <td>57</td>\n",
       "      <td>194</td>\n",
       "      <td>2012</td>\n",
       "      <td>18</td>\n",
       "      <td>5</td>\n",
       "      <td>22</td>\n",
       "      <td>20</td>\n",
       "    </tr>\n",
       "    <tr>\n",
       "      <th>1346</th>\n",
       "      <td>2</td>\n",
       "      <td>0</td>\n",
       "      <td>1</td>\n",
       "      <td>1</td>\n",
       "      <td>12.30</td>\n",
       "      <td>15.910</td>\n",
       "      <td>61</td>\n",
       "      <td>6.0032</td>\n",
       "      <td>12</td>\n",
       "      <td>41</td>\n",
       "      <td>2011</td>\n",
       "      <td>1</td>\n",
       "      <td>4</td>\n",
       "      <td>23</td>\n",
       "      <td>13</td>\n",
       "    </tr>\n",
       "    <tr>\n",
       "      <th>9432</th>\n",
       "      <td>3</td>\n",
       "      <td>0</td>\n",
       "      <td>0</td>\n",
       "      <td>1</td>\n",
       "      <td>23.78</td>\n",
       "      <td>27.275</td>\n",
       "      <td>60</td>\n",
       "      <td>8.9981</td>\n",
       "      <td>70</td>\n",
       "      <td>226</td>\n",
       "      <td>2012</td>\n",
       "      <td>16</td>\n",
       "      <td>9</td>\n",
       "      <td>9</td>\n",
       "      <td>37</td>\n",
       "    </tr>\n",
       "    <tr>\n",
       "      <th>453</th>\n",
       "      <td>1</td>\n",
       "      <td>0</td>\n",
       "      <td>1</td>\n",
       "      <td>3</td>\n",
       "      <td>8.20</td>\n",
       "      <td>9.850</td>\n",
       "      <td>93</td>\n",
       "      <td>12.9980</td>\n",
       "      <td>1</td>\n",
       "      <td>15</td>\n",
       "      <td>2011</td>\n",
       "      <td>1</td>\n",
       "      <td>2</td>\n",
       "      <td>23</td>\n",
       "      <td>5</td>\n",
       "    </tr>\n",
       "  </tbody>\n",
       "</table>\n",
       "</div>"
      ],
      "text/plain": [
       "      season  holiday  workingday  weather   temp   atemp  humidity  \\\n",
       "2930       3        0           1        1  28.70  32.575        65   \n",
       "7669       2        0           1        1  22.96  26.515        52   \n",
       "1346       2        0           1        1  12.30  15.910        61   \n",
       "9432       3        0           0        1  23.78  27.275        60   \n",
       "453        1        0           1        3   8.20   9.850        93   \n",
       "\n",
       "      windspeed  casual  registered  year  day  month  hour  week  \n",
       "2930    12.9980      10          25  2011   11      7     0    28  \n",
       "7669    22.0028      57         194  2012   18      5    22    20  \n",
       "1346     6.0032      12          41  2011    1      4    23    13  \n",
       "9432     8.9981      70         226  2012   16      9     9    37  \n",
       "453     12.9980       1          15  2011    1      2    23     5  "
      ]
     },
     "execution_count": 53,
     "metadata": {},
     "output_type": "execute_result"
    }
   ],
   "source": [
    "xtrain_cmap = xtrain[[ 'season', 'holiday', 'workingday', 'weather', 'temp',\n",
    "       'atemp', 'humidity', 'windspeed','casual', 'registered', 'year', 'day',\n",
    "       'month', 'hour', 'week']]\n",
    "xtrain_cmap.head()"
   ]
  },
  {
   "cell_type": "code",
   "execution_count": 54,
   "id": "471c110e",
   "metadata": {},
   "outputs": [
    {
     "data": {
      "image/png": "[encoded data removed]",
      "text/plain": [
       "<Figure size 720x720 with 2 Axes>"
      ]
     },
     "metadata": {},
     "output_type": "display_data"
    }
   ],
   "source": [
    "corrmat = xtrain_cmap.corr()\n",
    "fig = plt.figure(figsize=(10,10))\n",
    "sns.heatmap(corrmat,annot = True, square = True, fmt = '.3f')\n",
    "plt.show()"
   ]
  },
  {
   "cell_type": "markdown",
   "id": "bd0f06bf",
   "metadata": {},
   "source": [
    "##### Coorelation map is once of hte simplest way to understand how variable (features) depend on each other and how well coorealted they are.\n",
    "\n",
    "##### Imp*** We need to ignore those feature which are highly coorelated with each other (except with target feature) as they will make it really difficult for the model to fit .\n",
    "##### Imp *** During model building any one of the variable has to be dropped since they will exhibit multicollinearity in the data.\n",
    "\n",
    "#### Its clear from the above corr plot that:\n",
    "\n",
    "##### 1. hour is in strong cooreation with target variable (casual + registeres = counts)\n",
    "##### 2. temp is also in strong coorealtion with the target variable \n",
    "##### 3. we drop 'atemp' , 'holiday' and 'week' as these variable is in strong coorelation with 'temp' , 'workingday' and 'month' and in model building such feature with such     strong correlation with each other will exhibit multicollinearity in the data.\n",
    "##### 4. After playing around with the features we finally found some important feature which plays a crutial role in bike       prediction demand ['workingday','temp','day', 'year','month','hour']"
   ]
  },
  {
   "cell_type": "code",
   "execution_count": 55,
   "id": "5bf5491b",
   "metadata": {},
   "outputs": [
    {
     "data": {
      "text/html": [
       "<div>\n",
       "<style scoped>\n",
       "    .dataframe tbody tr th:only-of-type {\n",
       "        vertical-align: middle;\n",
       "    }\n",
       "\n",
       "    .dataframe tbody tr th {\n",
       "        vertical-align: top;\n",
       "    }\n",
       "\n",
       "    .dataframe thead th {\n",
       "        text-align: right;\n",
       "    }\n",
       "</style>\n",
       "<table border=\"1\" class=\"dataframe\">\n",
       "  <thead>\n",
       "    <tr style=\"text-align: right;\">\n",
       "      <th></th>\n",
       "      <th>season</th>\n",
       "      <th>workingday</th>\n",
       "      <th>weather</th>\n",
       "      <th>temp</th>\n",
       "      <th>humidity</th>\n",
       "      <th>windspeed</th>\n",
       "      <th>year</th>\n",
       "      <th>day</th>\n",
       "      <th>month</th>\n",
       "      <th>hour</th>\n",
       "    </tr>\n",
       "  </thead>\n",
       "  <tbody>\n",
       "    <tr>\n",
       "      <th>2930</th>\n",
       "      <td>3</td>\n",
       "      <td>1</td>\n",
       "      <td>1</td>\n",
       "      <td>28.70</td>\n",
       "      <td>65</td>\n",
       "      <td>12.9980</td>\n",
       "      <td>2011</td>\n",
       "      <td>11</td>\n",
       "      <td>7</td>\n",
       "      <td>0</td>\n",
       "    </tr>\n",
       "    <tr>\n",
       "      <th>7669</th>\n",
       "      <td>2</td>\n",
       "      <td>1</td>\n",
       "      <td>1</td>\n",
       "      <td>22.96</td>\n",
       "      <td>52</td>\n",
       "      <td>22.0028</td>\n",
       "      <td>2012</td>\n",
       "      <td>18</td>\n",
       "      <td>5</td>\n",
       "      <td>22</td>\n",
       "    </tr>\n",
       "    <tr>\n",
       "      <th>1346</th>\n",
       "      <td>2</td>\n",
       "      <td>1</td>\n",
       "      <td>1</td>\n",
       "      <td>12.30</td>\n",
       "      <td>61</td>\n",
       "      <td>6.0032</td>\n",
       "      <td>2011</td>\n",
       "      <td>1</td>\n",
       "      <td>4</td>\n",
       "      <td>23</td>\n",
       "    </tr>\n",
       "  </tbody>\n",
       "</table>\n",
       "</div>"
      ],
      "text/plain": [
       "      season  workingday  weather   temp  humidity  windspeed  year  day  \\\n",
       "2930       3           1        1  28.70        65    12.9980  2011   11   \n",
       "7669       2           1        1  22.96        52    22.0028  2012   18   \n",
       "1346       2           1        1  12.30        61     6.0032  2011    1   \n",
       "\n",
       "      month  hour  \n",
       "2930      7     0  \n",
       "7669      5    22  \n",
       "1346      4    23  "
      ]
     },
     "execution_count": 55,
     "metadata": {},
     "output_type": "execute_result"
    }
   ],
   "source": [
    "# initially we start with 10features as I dint want to be biased amd laters I tailed these feature using different method for removing multicolinearity features\n",
    "xtrain_lr = xtrain[[ 'season', 'workingday', 'weather', 'temp',\n",
    "        'humidity', 'windspeed', 'year', 'day',\n",
    "       'month', 'hour']]\n",
    "xtrain_lr.head(3)\n"
   ]
  },
  {
   "cell_type": "markdown",
   "id": "ddc1d891",
   "metadata": {},
   "source": [
    "## Steps for filtering features for the final model.\n",
    "## Method1 :  Variance Inflation Factor\n",
    "\n",
    "##### It measures the amount of Multicollinearity (you can express one input feature by a combination of others input features) among the independent variables in a multiple regression model"
   ]
  },
  {
   "cell_type": "code",
   "execution_count": 56,
   "id": "1fddb146",
   "metadata": {},
   "outputs": [],
   "source": [
    "from statsmodels.stats.outliers_influence import variance_inflation_factor\n",
    "from statsmodels.api import OLS, add_constant\n",
    "from statsmodels.api import add_constant"
   ]
  },
  {
   "cell_type": "code",
   "execution_count": 57,
   "id": "cbe71298",
   "metadata": {},
   "outputs": [
    {
     "name": "stderr",
     "output_type": "stream",
     "text": [
      "C:\\Users\\Asus\\anaconda3\\lib\\site-packages\\statsmodels\\tsa\\tsatools.py:142: FutureWarning: In a future version of pandas all arguments of concat except for the argument 'objs' will be keyword-only\n",
      "  x = pd.concat(x[::order], 1)\n"
     ]
    }
   ],
   "source": [
    "xtrain_lr = add_constant(xtrain_lr)"
   ]
  },
  {
   "cell_type": "code",
   "execution_count": 58,
   "id": "c4f1d837",
   "metadata": {},
   "outputs": [
    {
     "data": {
      "text/plain": [
       "[16391270.279259706,\n",
       " 17.949352280164657,\n",
       " 1.0029657309440705,\n",
       " 1.2484948277043322,\n",
       " 1.1092606363895623,\n",
       " 1.5464403335384012,\n",
       " 1.1544164477781695,\n",
       " 1.01261804089452,\n",
       " 1.0017106007065166,\n",
       " 18.064898933843697,\n",
       " 1.1224991169616816]"
      ]
     },
     "execution_count": 58,
     "metadata": {},
     "output_type": "execute_result"
    }
   ],
   "source": [
    "# for each input feature calculate the VIF\n",
    "n_columns = xtrain_lr.shape[1]\n",
    "vifs = []\n",
    "\n",
    "for i in range(n_columns):\n",
    "    vif = variance_inflation_factor(xtrain_lr.values,i)\n",
    "    #print(vif)\n",
    "    vifs.append(vif)\n",
    "vifs"
   ]
  },
  {
   "cell_type": "code",
   "execution_count": 59,
   "id": "bd2c0cab",
   "metadata": {},
   "outputs": [
    {
     "data": {
      "text/plain": [
       "const         1.639127e+07\n",
       "season        1.794935e+01\n",
       "workingday    1.002966e+00\n",
       "weather       1.248495e+00\n",
       "temp          1.109261e+00\n",
       "humidity      1.546440e+00\n",
       "windspeed     1.154416e+00\n",
       "year          1.012618e+00\n",
       "day           1.001711e+00\n",
       "month         1.806490e+01\n",
       "hour          1.122499e+00\n",
       "dtype: float64"
      ]
     },
     "execution_count": 59,
     "metadata": {},
     "output_type": "execute_result"
    }
   ],
   "source": [
    "pd.Series(vifs,index = xtrain_lr.columns)"
   ]
  },
  {
   "cell_type": "markdown",
   "id": "4f8bf168",
   "metadata": {},
   "source": [
    "## Step2\n",
    "## Selecting statistically significant features"
   ]
  },
  {
   "cell_type": "code",
   "execution_count": 60,
   "id": "e56ff17a",
   "metadata": {},
   "outputs": [],
   "source": [
    "m = OLS(ytrain, add_constant(xtrain_lr))"
   ]
  },
  {
   "cell_type": "code",
   "execution_count": 61,
   "id": "2b07709f",
   "metadata": {},
   "outputs": [],
   "source": [
    "m_result = m.fit()"
   ]
  },
  {
   "cell_type": "code",
   "execution_count": 62,
   "id": "a3f23fa9",
   "metadata": {},
   "outputs": [
    {
     "name": "stdout",
     "output_type": "stream",
     "text": [
      "                            OLS Regression Results                            \n",
      "==============================================================================\n",
      "Dep. Variable:                  count   R-squared:                       0.388\n",
      "Model:                            OLS   Adj. R-squared:                  0.387\n",
      "Method:                 Least Squares   F-statistic:                     516.7\n",
      "Date:                Sun, 12 Dec 2021   Prob (F-statistic):               0.00\n",
      "Time:                        14:24:51   Log-Likelihood:                -52027.\n",
      "No. Observations:                8164   AIC:                         1.041e+05\n",
      "Df Residuals:                    8153   BIC:                         1.042e+05\n",
      "Df Model:                          10                                         \n",
      "Covariance Type:            nonrobust                                         \n",
      "==============================================================================\n",
      "                 coef    std err          t      P>|t|      [0.025      0.975]\n",
      "------------------------------------------------------------------------------\n",
      "const      -1.646e+05   6354.088    -25.905      0.000   -1.77e+05   -1.52e+05\n",
      "season        -7.5666      5.952     -1.271      0.204     -19.234       4.101\n",
      "workingday     0.9557      3.379      0.283      0.777      -5.667       7.579\n",
      "weather       -4.9047      2.778     -1.765      0.078     -10.351       0.541\n",
      "temp           6.4946      0.212     30.629      0.000       6.079       6.910\n",
      "humidity      -2.0114      0.101    -19.843      0.000      -2.210      -1.813\n",
      "windspeed      0.3763      0.205      1.833      0.067      -0.026       0.779\n",
      "year          81.8534      3.159     25.914      0.000      75.662      88.045\n",
      "day            0.2582      0.287      0.898      0.369      -0.305       0.822\n",
      "month         10.1986      1.940      5.258      0.000       6.397      14.001\n",
      "hour           7.9870      0.240     33.308      0.000       7.517       8.457\n",
      "==============================================================================\n",
      "Omnibus:                     1566.878   Durbin-Watson:                   2.004\n",
      "Prob(Omnibus):                  0.000   Jarque-Bera (JB):             2964.780\n",
      "Skew:                           1.183   Prob(JB):                         0.00\n",
      "Kurtosis:                       4.765   Cond. No.                     8.15e+06\n",
      "==============================================================================\n",
      "\n",
      "Notes:\n",
      "[1] Standard Errors assume that the covariance matrix of the errors is correctly specified.\n",
      "[2] The condition number is large, 8.15e+06. This might indicate that there are\n",
      "strong multicollinearity or other numerical problems.\n"
     ]
    }
   ],
   "source": [
    "print(m_result.summary())"
   ]
  },
  {
   "cell_type": "markdown",
   "id": "d0a4cc4c",
   "metadata": {},
   "source": [
    "## Step3\n",
    "## Use Random Forest Feature Importance"
   ]
  },
  {
   "cell_type": "code",
   "execution_count": 63,
   "id": "83760ada",
   "metadata": {},
   "outputs": [],
   "source": [
    "from sklearn.ensemble import RandomForestRegressor"
   ]
  },
  {
   "cell_type": "code",
   "execution_count": 64,
   "id": "a812d307",
   "metadata": {},
   "outputs": [],
   "source": [
    "random_forest = RandomForestRegressor(max_depth=5, random_state=0)"
   ]
  },
  {
   "cell_type": "code",
   "execution_count": 65,
   "id": "6534be0a",
   "metadata": {},
   "outputs": [
    {
     "data": {
      "text/plain": [
       "RandomForestRegressor(max_depth=5, random_state=0)"
      ]
     },
     "execution_count": 65,
     "metadata": {},
     "output_type": "execute_result"
    }
   ],
   "source": [
    "random_forest.fit(xtrain_lr, ytrain)"
   ]
  },
  {
   "cell_type": "code",
   "execution_count": 66,
   "id": "8be69215",
   "metadata": {},
   "outputs": [],
   "source": [
    "feature_importance_dict = {'importance': random_forest.feature_importances_, 'feature': xtrain_lr.columns}"
   ]
  },
  {
   "cell_type": "code",
   "execution_count": 67,
   "id": "e71bf66b",
   "metadata": {},
   "outputs": [
    {
     "data": {
      "text/html": [
       "<div>\n",
       "<style scoped>\n",
       "    .dataframe tbody tr th:only-of-type {\n",
       "        vertical-align: middle;\n",
       "    }\n",
       "\n",
       "    .dataframe tbody tr th {\n",
       "        vertical-align: top;\n",
       "    }\n",
       "\n",
       "    .dataframe thead th {\n",
       "        text-align: right;\n",
       "    }\n",
       "</style>\n",
       "<table border=\"1\" class=\"dataframe\">\n",
       "  <thead>\n",
       "    <tr style=\"text-align: right;\">\n",
       "      <th></th>\n",
       "      <th>importance</th>\n",
       "      <th>feature</th>\n",
       "    </tr>\n",
       "  </thead>\n",
       "  <tbody>\n",
       "    <tr>\n",
       "      <th>10</th>\n",
       "      <td>7.012422e-01</td>\n",
       "      <td>hour</td>\n",
       "    </tr>\n",
       "    <tr>\n",
       "      <th>7</th>\n",
       "      <td>1.325922e-01</td>\n",
       "      <td>year</td>\n",
       "    </tr>\n",
       "    <tr>\n",
       "      <th>4</th>\n",
       "      <td>8.948948e-02</td>\n",
       "      <td>temp</td>\n",
       "    </tr>\n",
       "    <tr>\n",
       "      <th>9</th>\n",
       "      <td>6.056032e-02</td>\n",
       "      <td>month</td>\n",
       "    </tr>\n",
       "    <tr>\n",
       "      <th>1</th>\n",
       "      <td>1.041700e-02</td>\n",
       "      <td>season</td>\n",
       "    </tr>\n",
       "    <tr>\n",
       "      <th>2</th>\n",
       "      <td>5.244444e-03</td>\n",
       "      <td>workingday</td>\n",
       "    </tr>\n",
       "    <tr>\n",
       "      <th>5</th>\n",
       "      <td>3.446424e-04</td>\n",
       "      <td>humidity</td>\n",
       "    </tr>\n",
       "    <tr>\n",
       "      <th>3</th>\n",
       "      <td>1.073587e-04</td>\n",
       "      <td>weather</td>\n",
       "    </tr>\n",
       "    <tr>\n",
       "      <th>8</th>\n",
       "      <td>2.189112e-06</td>\n",
       "      <td>day</td>\n",
       "    </tr>\n",
       "    <tr>\n",
       "      <th>6</th>\n",
       "      <td>1.439805e-07</td>\n",
       "      <td>windspeed</td>\n",
       "    </tr>\n",
       "    <tr>\n",
       "      <th>0</th>\n",
       "      <td>0.000000e+00</td>\n",
       "      <td>const</td>\n",
       "    </tr>\n",
       "  </tbody>\n",
       "</table>\n",
       "</div>"
      ],
      "text/plain": [
       "      importance     feature\n",
       "10  7.012422e-01        hour\n",
       "7   1.325922e-01        year\n",
       "4   8.948948e-02        temp\n",
       "9   6.056032e-02       month\n",
       "1   1.041700e-02      season\n",
       "2   5.244444e-03  workingday\n",
       "5   3.446424e-04    humidity\n",
       "3   1.073587e-04     weather\n",
       "8   2.189112e-06         day\n",
       "6   1.439805e-07   windspeed\n",
       "0   0.000000e+00       const"
      ]
     },
     "execution_count": 67,
     "metadata": {},
     "output_type": "execute_result"
    }
   ],
   "source": [
    "pd.DataFrame(data=feature_importance_dict).sort_values('importance', ascending=False)"
   ]
  },
  {
   "cell_type": "markdown",
   "id": "e010af3b",
   "metadata": {},
   "source": [
    "## Recursive Feature Elimination"
   ]
  },
  {
   "cell_type": "code",
   "execution_count": 68,
   "id": "9f134e2d",
   "metadata": {},
   "outputs": [],
   "source": [
    "from sklearn.feature_selection import RFE"
   ]
  },
  {
   "cell_type": "code",
   "execution_count": 69,
   "id": "2d9e03af",
   "metadata": {},
   "outputs": [
    {
     "data": {
      "text/plain": [
       "LinearRegression()"
      ]
     },
     "execution_count": 69,
     "metadata": {},
     "output_type": "execute_result"
    }
   ],
   "source": [
    "# Instantiate estimator\n",
    "m_sl = LinearRegression()\n",
    "m_sl.fit(xtrain_lr, ytrain)"
   ]
  },
  {
   "cell_type": "code",
   "execution_count": 70,
   "id": "2f46b2c8",
   "metadata": {},
   "outputs": [
    {
     "name": "stdout",
     "output_type": "stream",
     "text": [
      "Fitting estimator with 11 features.\n",
      "Fitting estimator with 10 features.\n",
      "Fitting estimator with 9 features.\n",
      "Fitting estimator with 8 features.\n",
      "Fitting estimator with 7 features.\n",
      "Fitting estimator with 6 features.\n"
     ]
    },
    {
     "data": {
      "text/plain": [
       "RFE(estimator=LinearRegression(), n_features_to_select=5, verbose=1)"
      ]
     },
     "execution_count": 70,
     "metadata": {},
     "output_type": "execute_result"
    }
   ],
   "source": [
    "rfe = RFE(estimator= m_sl,verbose=1,n_features_to_select=5)\n",
    "rfe.fit(xtrain_lr, ytrain)"
   ]
  },
  {
   "cell_type": "code",
   "execution_count": 71,
   "id": "01553d21",
   "metadata": {},
   "outputs": [
    {
     "data": {
      "text/html": [
       "<div>\n",
       "<style scoped>\n",
       "    .dataframe tbody tr th:only-of-type {\n",
       "        vertical-align: middle;\n",
       "    }\n",
       "\n",
       "    .dataframe tbody tr th {\n",
       "        vertical-align: top;\n",
       "    }\n",
       "\n",
       "    .dataframe thead th {\n",
       "        text-align: right;\n",
       "    }\n",
       "</style>\n",
       "<table border=\"1\" class=\"dataframe\">\n",
       "  <thead>\n",
       "    <tr style=\"text-align: right;\">\n",
       "      <th></th>\n",
       "      <th>const</th>\n",
       "      <th>season</th>\n",
       "      <th>workingday</th>\n",
       "      <th>weather</th>\n",
       "      <th>temp</th>\n",
       "      <th>humidity</th>\n",
       "      <th>windspeed</th>\n",
       "      <th>year</th>\n",
       "      <th>day</th>\n",
       "      <th>month</th>\n",
       "      <th>hour</th>\n",
       "    </tr>\n",
       "  </thead>\n",
       "  <tbody>\n",
       "    <tr>\n",
       "      <th>2930</th>\n",
       "      <td>1.0</td>\n",
       "      <td>3</td>\n",
       "      <td>1</td>\n",
       "      <td>1</td>\n",
       "      <td>28.70</td>\n",
       "      <td>65</td>\n",
       "      <td>12.9980</td>\n",
       "      <td>2011</td>\n",
       "      <td>11</td>\n",
       "      <td>7</td>\n",
       "      <td>0</td>\n",
       "    </tr>\n",
       "    <tr>\n",
       "      <th>7669</th>\n",
       "      <td>1.0</td>\n",
       "      <td>2</td>\n",
       "      <td>1</td>\n",
       "      <td>1</td>\n",
       "      <td>22.96</td>\n",
       "      <td>52</td>\n",
       "      <td>22.0028</td>\n",
       "      <td>2012</td>\n",
       "      <td>18</td>\n",
       "      <td>5</td>\n",
       "      <td>22</td>\n",
       "    </tr>\n",
       "    <tr>\n",
       "      <th>1346</th>\n",
       "      <td>1.0</td>\n",
       "      <td>2</td>\n",
       "      <td>1</td>\n",
       "      <td>1</td>\n",
       "      <td>12.30</td>\n",
       "      <td>61</td>\n",
       "      <td>6.0032</td>\n",
       "      <td>2011</td>\n",
       "      <td>1</td>\n",
       "      <td>4</td>\n",
       "      <td>23</td>\n",
       "    </tr>\n",
       "    <tr>\n",
       "      <th>9432</th>\n",
       "      <td>1.0</td>\n",
       "      <td>3</td>\n",
       "      <td>0</td>\n",
       "      <td>1</td>\n",
       "      <td>23.78</td>\n",
       "      <td>60</td>\n",
       "      <td>8.9981</td>\n",
       "      <td>2012</td>\n",
       "      <td>16</td>\n",
       "      <td>9</td>\n",
       "      <td>9</td>\n",
       "    </tr>\n",
       "    <tr>\n",
       "      <th>453</th>\n",
       "      <td>1.0</td>\n",
       "      <td>1</td>\n",
       "      <td>1</td>\n",
       "      <td>3</td>\n",
       "      <td>8.20</td>\n",
       "      <td>93</td>\n",
       "      <td>12.9980</td>\n",
       "      <td>2011</td>\n",
       "      <td>1</td>\n",
       "      <td>2</td>\n",
       "      <td>23</td>\n",
       "    </tr>\n",
       "  </tbody>\n",
       "</table>\n",
       "</div>"
      ],
      "text/plain": [
       "      const  season  workingday  weather   temp  humidity  windspeed  year  \\\n",
       "2930    1.0       3           1        1  28.70        65    12.9980  2011   \n",
       "7669    1.0       2           1        1  22.96        52    22.0028  2012   \n",
       "1346    1.0       2           1        1  12.30        61     6.0032  2011   \n",
       "9432    1.0       3           0        1  23.78        60     8.9981  2012   \n",
       "453     1.0       1           1        3   8.20        93    12.9980  2011   \n",
       "\n",
       "      day  month  hour  \n",
       "2930   11      7     0  \n",
       "7669   18      5    22  \n",
       "1346    1      4    23  \n",
       "9432   16      9     9  \n",
       "453     1      2    23  "
      ]
     },
     "execution_count": 71,
     "metadata": {},
     "output_type": "execute_result"
    }
   ],
   "source": [
    "# Input feature\n",
    "xtrain_lr.head()"
   ]
  },
  {
   "cell_type": "code",
   "execution_count": 72,
   "id": "a3d8d5c3",
   "metadata": {},
   "outputs": [
    {
     "data": {
      "text/plain": [
       "array([False, False, False,  True,  True, False, False,  True, False,\n",
       "        True,  True])"
      ]
     },
     "execution_count": 72,
     "metadata": {},
     "output_type": "execute_result"
    }
   ],
   "source": [
    "rfe.support_ "
   ]
  },
  {
   "cell_type": "code",
   "execution_count": 73,
   "id": "33dcec64",
   "metadata": {},
   "outputs": [
    {
     "data": {
      "text/plain": [
       "array([7, 2, 4, 1, 1, 3, 5, 1, 6, 1, 1])"
      ]
     },
     "execution_count": 73,
     "metadata": {},
     "output_type": "execute_result"
    }
   ],
   "source": [
    "rfe.ranking_"
   ]
  },
  {
   "cell_type": "code",
   "execution_count": 74,
   "id": "682fe047",
   "metadata": {},
   "outputs": [
    {
     "data": {
      "text/plain": [
       "Index(['weather', 'temp', 'year', 'month', 'hour'], dtype='object')"
      ]
     },
     "execution_count": 74,
     "metadata": {},
     "output_type": "execute_result"
    }
   ],
   "source": [
    "feature_to_include = xtrain_lr.columns[rfe.support_]\n",
    "feature_to_include"
   ]
  },
  {
   "cell_type": "code",
   "execution_count": 75,
   "id": "5ccfc8ca",
   "metadata": {},
   "outputs": [
    {
     "name": "stdout",
     "output_type": "stream",
     "text": [
      "Including only the features Index(['weather', 'temp', 'year', 'month', 'hour'], dtype='object')\n",
      "R^2 score  is 0.35\n"
     ]
    }
   ],
   "source": [
    "print(f'Including only the features {feature_to_include}\\nR^2 score  is {round(rfe.score(xtrain_lr, ytrain),2)}')"
   ]
  },
  {
   "cell_type": "code",
   "execution_count": 76,
   "id": "86ee5159",
   "metadata": {},
   "outputs": [],
   "source": [
    "xtrain_lr.drop(['const'], axis = 1, inplace= True)"
   ]
  },
  {
   "cell_type": "code",
   "execution_count": 77,
   "id": "b827bb2f",
   "metadata": {},
   "outputs": [
    {
     "data": {
      "text/html": [
       "<div>\n",
       "<style scoped>\n",
       "    .dataframe tbody tr th:only-of-type {\n",
       "        vertical-align: middle;\n",
       "    }\n",
       "\n",
       "    .dataframe tbody tr th {\n",
       "        vertical-align: top;\n",
       "    }\n",
       "\n",
       "    .dataframe thead th {\n",
       "        text-align: right;\n",
       "    }\n",
       "</style>\n",
       "<table border=\"1\" class=\"dataframe\">\n",
       "  <thead>\n",
       "    <tr style=\"text-align: right;\">\n",
       "      <th></th>\n",
       "      <th>season</th>\n",
       "      <th>workingday</th>\n",
       "      <th>weather</th>\n",
       "      <th>temp</th>\n",
       "      <th>humidity</th>\n",
       "      <th>windspeed</th>\n",
       "      <th>year</th>\n",
       "      <th>day</th>\n",
       "      <th>month</th>\n",
       "      <th>hour</th>\n",
       "    </tr>\n",
       "  </thead>\n",
       "  <tbody>\n",
       "    <tr>\n",
       "      <th>2930</th>\n",
       "      <td>3</td>\n",
       "      <td>1</td>\n",
       "      <td>1</td>\n",
       "      <td>28.70</td>\n",
       "      <td>65</td>\n",
       "      <td>12.9980</td>\n",
       "      <td>2011</td>\n",
       "      <td>11</td>\n",
       "      <td>7</td>\n",
       "      <td>0</td>\n",
       "    </tr>\n",
       "    <tr>\n",
       "      <th>7669</th>\n",
       "      <td>2</td>\n",
       "      <td>1</td>\n",
       "      <td>1</td>\n",
       "      <td>22.96</td>\n",
       "      <td>52</td>\n",
       "      <td>22.0028</td>\n",
       "      <td>2012</td>\n",
       "      <td>18</td>\n",
       "      <td>5</td>\n",
       "      <td>22</td>\n",
       "    </tr>\n",
       "    <tr>\n",
       "      <th>1346</th>\n",
       "      <td>2</td>\n",
       "      <td>1</td>\n",
       "      <td>1</td>\n",
       "      <td>12.30</td>\n",
       "      <td>61</td>\n",
       "      <td>6.0032</td>\n",
       "      <td>2011</td>\n",
       "      <td>1</td>\n",
       "      <td>4</td>\n",
       "      <td>23</td>\n",
       "    </tr>\n",
       "    <tr>\n",
       "      <th>9432</th>\n",
       "      <td>3</td>\n",
       "      <td>0</td>\n",
       "      <td>1</td>\n",
       "      <td>23.78</td>\n",
       "      <td>60</td>\n",
       "      <td>8.9981</td>\n",
       "      <td>2012</td>\n",
       "      <td>16</td>\n",
       "      <td>9</td>\n",
       "      <td>9</td>\n",
       "    </tr>\n",
       "    <tr>\n",
       "      <th>453</th>\n",
       "      <td>1</td>\n",
       "      <td>1</td>\n",
       "      <td>3</td>\n",
       "      <td>8.20</td>\n",
       "      <td>93</td>\n",
       "      <td>12.9980</td>\n",
       "      <td>2011</td>\n",
       "      <td>1</td>\n",
       "      <td>2</td>\n",
       "      <td>23</td>\n",
       "    </tr>\n",
       "  </tbody>\n",
       "</table>\n",
       "</div>"
      ],
      "text/plain": [
       "      season  workingday  weather   temp  humidity  windspeed  year  day  \\\n",
       "2930       3           1        1  28.70        65    12.9980  2011   11   \n",
       "7669       2           1        1  22.96        52    22.0028  2012   18   \n",
       "1346       2           1        1  12.30        61     6.0032  2011    1   \n",
       "9432       3           0        1  23.78        60     8.9981  2012   16   \n",
       "453        1           1        3   8.20        93    12.9980  2011    1   \n",
       "\n",
       "      month  hour  \n",
       "2930      7     0  \n",
       "7669      5    22  \n",
       "1346      4    23  \n",
       "9432      9     9  \n",
       "453       2    23  "
      ]
     },
     "execution_count": 77,
     "metadata": {},
     "output_type": "execute_result"
    }
   ],
   "source": [
    "xtrain_lr.head()"
   ]
  },
  {
   "cell_type": "markdown",
   "id": "186f27b3",
   "metadata": {},
   "source": [
    "##### Finally we found some important feature to use in the model and after few trial of running the model, I came to a final list of feature: ['workingday','temp','day', 'year','month','hour'] "
   ]
  },
  {
   "cell_type": "code",
   "execution_count": 78,
   "id": "41104b34",
   "metadata": {},
   "outputs": [],
   "source": [
    "xtrain_lr_final = xtrain_lr[['workingday','temp','day', 'year','month','hour']]"
   ]
  },
  {
   "cell_type": "code",
   "execution_count": 79,
   "id": "9549c7a7",
   "metadata": {},
   "outputs": [],
   "source": [
    "xtrain_lr_final = xtrain_lr_final.astype({'workingday':'object','year':'object','hour':'object','month':'object'})\n",
    "# 'workingday': object, 'holiday': object, 'month':object,'weather': object,"
   ]
  },
  {
   "cell_type": "code",
   "execution_count": 80,
   "id": "daf503c6",
   "metadata": {},
   "outputs": [
    {
     "name": "stdout",
     "output_type": "stream",
     "text": [
      "<class 'pandas.core.frame.DataFrame'>\n",
      "Int64Index: 8164 entries, 2930 to 7270\n",
      "Data columns (total 6 columns):\n",
      " #   Column      Non-Null Count  Dtype  \n",
      "---  ------      --------------  -----  \n",
      " 0   workingday  8164 non-null   object \n",
      " 1   temp        8164 non-null   float64\n",
      " 2   day         8164 non-null   int64  \n",
      " 3   year        8164 non-null   object \n",
      " 4   month       8164 non-null   object \n",
      " 5   hour        8164 non-null   object \n",
      "dtypes: float64(1), int64(1), object(4)\n",
      "memory usage: 704.5+ KB\n"
     ]
    }
   ],
   "source": [
    "xtrain_lr_final.info()"
   ]
  },
  {
   "cell_type": "code",
   "execution_count": 81,
   "id": "aabe87f8",
   "metadata": {},
   "outputs": [],
   "source": [
    "# Select Categorical and numeric features\n",
    "\n",
    "categorical_col = xtrain_lr_final.select_dtypes(include='object').columns\n",
    "numeric_col =xtrain_lr_final.select_dtypes(include='number').columns"
   ]
  },
  {
   "cell_type": "code",
   "execution_count": 82,
   "id": "cd1f52b0",
   "metadata": {},
   "outputs": [
    {
     "data": {
      "text/plain": [
       "Index(['workingday', 'year', 'month', 'hour'], dtype='object')"
      ]
     },
     "execution_count": 82,
     "metadata": {},
     "output_type": "execute_result"
    }
   ],
   "source": [
    "categorical_col"
   ]
  },
  {
   "cell_type": "code",
   "execution_count": 83,
   "id": "37fa30a5",
   "metadata": {},
   "outputs": [
    {
     "data": {
      "text/plain": [
       "Index(['temp', 'day'], dtype='object')"
      ]
     },
     "execution_count": 83,
     "metadata": {},
     "output_type": "execute_result"
    }
   ],
   "source": [
    "numeric_col"
   ]
  },
  {
   "cell_type": "markdown",
   "id": "99bf56de",
   "metadata": {},
   "source": [
    "## Scaling of the features"
   ]
  },
  {
   "cell_type": "code",
   "execution_count": 84,
   "id": "74bbda3d",
   "metadata": {},
   "outputs": [],
   "source": [
    "# Defining transformer\n",
    "ohe = OneHotEncoder()\n",
    "scaler = MinMaxScaler()\n",
    "scaler_rob = RobustScaler()\n",
    "transformers = [('ohe', OneHotEncoder(drop = 'first'), categorical_col),\n",
    "               ('scaler', MinMaxScaler(), ['temp', 'day'])]"
   ]
  },
  {
   "cell_type": "code",
   "execution_count": 85,
   "id": "b14a5794",
   "metadata": {},
   "outputs": [],
   "source": [
    "# Define column transformer\n",
    "column_transformer = ColumnTransformer(\n",
    "    transformers=transformers, remainder='drop')"
   ]
  },
  {
   "cell_type": "code",
   "execution_count": 86,
   "id": "34ab8937",
   "metadata": {},
   "outputs": [],
   "source": [
    "# Fit and transform the column transformer ONLY on Xtrain\n",
    "Xtrain_lr_tf = column_transformer.fit_transform(xtrain_lr_final)\n",
    "\n",
    "# Transform Xtest\n",
    "#Xtest_fe = column_transformer.transform(Xtest)"
   ]
  },
  {
   "cell_type": "code",
   "execution_count": 87,
   "id": "5143739f",
   "metadata": {},
   "outputs": [
    {
     "data": {
      "text/html": [
       "<div>\n",
       "<style scoped>\n",
       "    .dataframe tbody tr th:only-of-type {\n",
       "        vertical-align: middle;\n",
       "    }\n",
       "\n",
       "    .dataframe tbody tr th {\n",
       "        vertical-align: top;\n",
       "    }\n",
       "\n",
       "    .dataframe thead th {\n",
       "        text-align: right;\n",
       "    }\n",
       "</style>\n",
       "<table border=\"1\" class=\"dataframe\">\n",
       "  <thead>\n",
       "    <tr style=\"text-align: right;\">\n",
       "      <th></th>\n",
       "      <th>workingday</th>\n",
       "      <th>temp</th>\n",
       "      <th>day</th>\n",
       "      <th>year</th>\n",
       "      <th>month</th>\n",
       "      <th>hour</th>\n",
       "    </tr>\n",
       "  </thead>\n",
       "  <tbody>\n",
       "    <tr>\n",
       "      <th>3133</th>\n",
       "      <td>1</td>\n",
       "      <td>33.62</td>\n",
       "      <td>19</td>\n",
       "      <td>2011</td>\n",
       "      <td>7</td>\n",
       "      <td>11</td>\n",
       "    </tr>\n",
       "    <tr>\n",
       "      <th>5786</th>\n",
       "      <td>0</td>\n",
       "      <td>4.10</td>\n",
       "      <td>16</td>\n",
       "      <td>2012</td>\n",
       "      <td>1</td>\n",
       "      <td>6</td>\n",
       "    </tr>\n",
       "    <tr>\n",
       "      <th>5224</th>\n",
       "      <td>0</td>\n",
       "      <td>9.84</td>\n",
       "      <td>11</td>\n",
       "      <td>2011</td>\n",
       "      <td>12</td>\n",
       "      <td>18</td>\n",
       "    </tr>\n",
       "  </tbody>\n",
       "</table>\n",
       "</div>"
      ],
      "text/plain": [
       "      workingday   temp  day  year  month  hour\n",
       "3133           1  33.62   19  2011      7    11\n",
       "5786           0   4.10   16  2012      1     6\n",
       "5224           0   9.84   11  2011     12    18"
      ]
     },
     "execution_count": 87,
     "metadata": {},
     "output_type": "execute_result"
    }
   ],
   "source": [
    "# Simillarly for Xtest\n",
    "\n",
    "xtest_lr = xtest[['workingday','temp','day', \n",
    "        'year','month',\n",
    "       'hour']]\n",
    "xtest_lr.head(3)\n",
    "#'workingday', 'holiday','year','month',"
   ]
  },
  {
   "cell_type": "code",
   "execution_count": 88,
   "id": "91176535",
   "metadata": {},
   "outputs": [],
   "source": [
    "xtest_lr = xtest_lr.astype({'workingday':'object','year':'object','hour':'object','month':'object'})\n",
    "#'workingday': object, 'holiday': object,'year': object, 'month':object,"
   ]
  },
  {
   "cell_type": "code",
   "execution_count": 89,
   "id": "15a8176a",
   "metadata": {},
   "outputs": [
    {
     "name": "stdout",
     "output_type": "stream",
     "text": [
      "<class 'pandas.core.frame.DataFrame'>\n",
      "Int64Index: 2722 entries, 3133 to 12\n",
      "Data columns (total 6 columns):\n",
      " #   Column      Non-Null Count  Dtype  \n",
      "---  ------      --------------  -----  \n",
      " 0   workingday  2722 non-null   object \n",
      " 1   temp        2722 non-null   float64\n",
      " 2   day         2722 non-null   int64  \n",
      " 3   year        2722 non-null   object \n",
      " 4   month       2722 non-null   object \n",
      " 5   hour        2722 non-null   object \n",
      "dtypes: float64(1), int64(1), object(4)\n",
      "memory usage: 148.9+ KB\n"
     ]
    }
   ],
   "source": [
    "xtest_lr.info()"
   ]
  },
  {
   "cell_type": "code",
   "execution_count": 90,
   "id": "157ea897",
   "metadata": {},
   "outputs": [],
   "source": [
    "Xtest_lr_tf = column_transformer.transform(xtest_lr)"
   ]
  },
  {
   "cell_type": "code",
   "execution_count": 91,
   "id": "b399fb3e",
   "metadata": {},
   "outputs": [
    {
     "data": {
      "text/plain": [
       "<2722x38 sparse matrix of type '<class 'numpy.float64'>'\n",
       "\twith 13591 stored elements in Compressed Sparse Row format>"
      ]
     },
     "execution_count": 91,
     "metadata": {},
     "output_type": "execute_result"
    }
   ],
   "source": [
    "Xtest_lr_tf"
   ]
  },
  {
   "cell_type": "code",
   "execution_count": 92,
   "id": "ae08058d",
   "metadata": {},
   "outputs": [
    {
     "data": {
      "text/plain": [
       "matrix([[1.        , 0.        , 0.        , ..., 0.        , 0.81632653,\n",
       "         1.        ],\n",
       "        [0.        , 1.        , 0.        , ..., 0.        , 0.08163265,\n",
       "         0.83333333],\n",
       "        [0.        , 0.        , 0.        , ..., 0.        , 0.2244898 ,\n",
       "         0.55555556],\n",
       "        ...,\n",
       "        [1.        , 0.        , 0.        , ..., 0.        , 0.65306122,\n",
       "         0.55555556],\n",
       "        [0.        , 0.        , 0.        , ..., 0.        , 0.65306122,\n",
       "         0.83333333],\n",
       "        [0.        , 0.        , 0.        , ..., 0.        , 0.40816327,\n",
       "         0.        ]])"
      ]
     },
     "execution_count": 92,
     "metadata": {},
     "output_type": "execute_result"
    }
   ],
   "source": [
    " Xtest_lr_tf.todense()"
   ]
  },
  {
   "cell_type": "code",
   "execution_count": 93,
   "id": "40ed2145",
   "metadata": {},
   "outputs": [
    {
     "data": {
      "text/plain": [
       "matrix([[1.        , 0.        , 0.        , ..., 0.        , 0.69387755,\n",
       "         0.55555556],\n",
       "        [1.        , 1.        , 0.        , ..., 0.        , 0.55102041,\n",
       "         0.94444444],\n",
       "        [1.        , 0.        , 0.        , ..., 1.        , 0.28571429,\n",
       "         0.        ],\n",
       "        ...,\n",
       "        [0.        , 0.        , 0.        , ..., 0.        , 0.26530612,\n",
       "         0.94444444],\n",
       "        [0.        , 0.        , 1.        , ..., 0.        , 0.36734694,\n",
       "         1.        ],\n",
       "        [1.        , 1.        , 0.        , ..., 0.        , 0.53061224,\n",
       "         0.05555556]])"
      ]
     },
     "execution_count": 93,
     "metadata": {},
     "output_type": "execute_result"
    }
   ],
   "source": [
    "Xtrain_lr_tf.todense()"
   ]
  },
  {
   "cell_type": "code",
   "execution_count": 94,
   "id": "d34974e5",
   "metadata": {},
   "outputs": [],
   "source": [
    "Xtrain_lr_tf = pd.DataFrame(Xtrain_lr_tf.todense())"
   ]
  },
  {
   "cell_type": "code",
   "execution_count": 95,
   "id": "512e3366",
   "metadata": {},
   "outputs": [
    {
     "data": {
      "text/html": [
       "<div>\n",
       "<style scoped>\n",
       "    .dataframe tbody tr th:only-of-type {\n",
       "        vertical-align: middle;\n",
       "    }\n",
       "\n",
       "    .dataframe tbody tr th {\n",
       "        vertical-align: top;\n",
       "    }\n",
       "\n",
       "    .dataframe thead th {\n",
       "        text-align: right;\n",
       "    }\n",
       "</style>\n",
       "<table border=\"1\" class=\"dataframe\">\n",
       "  <thead>\n",
       "    <tr style=\"text-align: right;\">\n",
       "      <th></th>\n",
       "      <th>0</th>\n",
       "      <th>1</th>\n",
       "      <th>2</th>\n",
       "      <th>3</th>\n",
       "      <th>4</th>\n",
       "      <th>5</th>\n",
       "      <th>6</th>\n",
       "      <th>7</th>\n",
       "      <th>8</th>\n",
       "      <th>9</th>\n",
       "      <th>...</th>\n",
       "      <th>28</th>\n",
       "      <th>29</th>\n",
       "      <th>30</th>\n",
       "      <th>31</th>\n",
       "      <th>32</th>\n",
       "      <th>33</th>\n",
       "      <th>34</th>\n",
       "      <th>35</th>\n",
       "      <th>36</th>\n",
       "      <th>37</th>\n",
       "    </tr>\n",
       "  </thead>\n",
       "  <tbody>\n",
       "    <tr>\n",
       "      <th>0</th>\n",
       "      <td>1.0</td>\n",
       "      <td>0.0</td>\n",
       "      <td>0.0</td>\n",
       "      <td>0.0</td>\n",
       "      <td>0.0</td>\n",
       "      <td>0.0</td>\n",
       "      <td>0.0</td>\n",
       "      <td>1.0</td>\n",
       "      <td>0.0</td>\n",
       "      <td>0.0</td>\n",
       "      <td>...</td>\n",
       "      <td>0.0</td>\n",
       "      <td>0.0</td>\n",
       "      <td>0.0</td>\n",
       "      <td>0.0</td>\n",
       "      <td>0.0</td>\n",
       "      <td>0.0</td>\n",
       "      <td>0.0</td>\n",
       "      <td>0.0</td>\n",
       "      <td>0.693878</td>\n",
       "      <td>0.555556</td>\n",
       "    </tr>\n",
       "    <tr>\n",
       "      <th>1</th>\n",
       "      <td>1.0</td>\n",
       "      <td>1.0</td>\n",
       "      <td>0.0</td>\n",
       "      <td>0.0</td>\n",
       "      <td>0.0</td>\n",
       "      <td>1.0</td>\n",
       "      <td>0.0</td>\n",
       "      <td>0.0</td>\n",
       "      <td>0.0</td>\n",
       "      <td>0.0</td>\n",
       "      <td>...</td>\n",
       "      <td>0.0</td>\n",
       "      <td>0.0</td>\n",
       "      <td>0.0</td>\n",
       "      <td>0.0</td>\n",
       "      <td>0.0</td>\n",
       "      <td>0.0</td>\n",
       "      <td>1.0</td>\n",
       "      <td>0.0</td>\n",
       "      <td>0.551020</td>\n",
       "      <td>0.944444</td>\n",
       "    </tr>\n",
       "    <tr>\n",
       "      <th>2</th>\n",
       "      <td>1.0</td>\n",
       "      <td>0.0</td>\n",
       "      <td>0.0</td>\n",
       "      <td>0.0</td>\n",
       "      <td>1.0</td>\n",
       "      <td>0.0</td>\n",
       "      <td>0.0</td>\n",
       "      <td>0.0</td>\n",
       "      <td>0.0</td>\n",
       "      <td>0.0</td>\n",
       "      <td>...</td>\n",
       "      <td>0.0</td>\n",
       "      <td>0.0</td>\n",
       "      <td>0.0</td>\n",
       "      <td>0.0</td>\n",
       "      <td>0.0</td>\n",
       "      <td>0.0</td>\n",
       "      <td>0.0</td>\n",
       "      <td>1.0</td>\n",
       "      <td>0.285714</td>\n",
       "      <td>0.000000</td>\n",
       "    </tr>\n",
       "  </tbody>\n",
       "</table>\n",
       "<p>3 rows × 38 columns</p>\n",
       "</div>"
      ],
      "text/plain": [
       "    0    1    2    3    4    5    6    7    8    9   ...   28   29   30   31  \\\n",
       "0  1.0  0.0  0.0  0.0  0.0  0.0  0.0  1.0  0.0  0.0  ...  0.0  0.0  0.0  0.0   \n",
       "1  1.0  1.0  0.0  0.0  0.0  1.0  0.0  0.0  0.0  0.0  ...  0.0  0.0  0.0  0.0   \n",
       "2  1.0  0.0  0.0  0.0  1.0  0.0  0.0  0.0  0.0  0.0  ...  0.0  0.0  0.0  0.0   \n",
       "\n",
       "    32   33   34   35        36        37  \n",
       "0  0.0  0.0  0.0  0.0  0.693878  0.555556  \n",
       "1  0.0  0.0  1.0  0.0  0.551020  0.944444  \n",
       "2  0.0  0.0  0.0  1.0  0.285714  0.000000  \n",
       "\n",
       "[3 rows x 38 columns]"
      ]
     },
     "execution_count": 95,
     "metadata": {},
     "output_type": "execute_result"
    }
   ],
   "source": [
    "Xtrain_lr_tf.head(3)"
   ]
  },
  {
   "cell_type": "code",
   "execution_count": 96,
   "id": "4866ad04",
   "metadata": {},
   "outputs": [],
   "source": [
    "Xtest_lr_tf = pd.DataFrame(Xtest_lr_tf.todense())"
   ]
  },
  {
   "cell_type": "code",
   "execution_count": 97,
   "id": "43f25d00",
   "metadata": {},
   "outputs": [
    {
     "data": {
      "text/html": [
       "<div>\n",
       "<style scoped>\n",
       "    .dataframe tbody tr th:only-of-type {\n",
       "        vertical-align: middle;\n",
       "    }\n",
       "\n",
       "    .dataframe tbody tr th {\n",
       "        vertical-align: top;\n",
       "    }\n",
       "\n",
       "    .dataframe thead th {\n",
       "        text-align: right;\n",
       "    }\n",
       "</style>\n",
       "<table border=\"1\" class=\"dataframe\">\n",
       "  <thead>\n",
       "    <tr style=\"text-align: right;\">\n",
       "      <th></th>\n",
       "      <th>0</th>\n",
       "      <th>1</th>\n",
       "      <th>2</th>\n",
       "      <th>3</th>\n",
       "      <th>4</th>\n",
       "      <th>5</th>\n",
       "      <th>6</th>\n",
       "      <th>7</th>\n",
       "      <th>8</th>\n",
       "      <th>9</th>\n",
       "      <th>...</th>\n",
       "      <th>28</th>\n",
       "      <th>29</th>\n",
       "      <th>30</th>\n",
       "      <th>31</th>\n",
       "      <th>32</th>\n",
       "      <th>33</th>\n",
       "      <th>34</th>\n",
       "      <th>35</th>\n",
       "      <th>36</th>\n",
       "      <th>37</th>\n",
       "    </tr>\n",
       "  </thead>\n",
       "  <tbody>\n",
       "    <tr>\n",
       "      <th>0</th>\n",
       "      <td>1.0</td>\n",
       "      <td>0.0</td>\n",
       "      <td>0.0</td>\n",
       "      <td>0.0</td>\n",
       "      <td>0.0</td>\n",
       "      <td>0.0</td>\n",
       "      <td>0.0</td>\n",
       "      <td>1.0</td>\n",
       "      <td>0.0</td>\n",
       "      <td>0.0</td>\n",
       "      <td>...</td>\n",
       "      <td>0.0</td>\n",
       "      <td>0.0</td>\n",
       "      <td>0.0</td>\n",
       "      <td>0.0</td>\n",
       "      <td>0.0</td>\n",
       "      <td>0.0</td>\n",
       "      <td>0.0</td>\n",
       "      <td>0.0</td>\n",
       "      <td>0.816327</td>\n",
       "      <td>1.000000</td>\n",
       "    </tr>\n",
       "    <tr>\n",
       "      <th>1</th>\n",
       "      <td>0.0</td>\n",
       "      <td>1.0</td>\n",
       "      <td>0.0</td>\n",
       "      <td>0.0</td>\n",
       "      <td>0.0</td>\n",
       "      <td>0.0</td>\n",
       "      <td>0.0</td>\n",
       "      <td>0.0</td>\n",
       "      <td>0.0</td>\n",
       "      <td>0.0</td>\n",
       "      <td>...</td>\n",
       "      <td>0.0</td>\n",
       "      <td>0.0</td>\n",
       "      <td>0.0</td>\n",
       "      <td>0.0</td>\n",
       "      <td>0.0</td>\n",
       "      <td>0.0</td>\n",
       "      <td>0.0</td>\n",
       "      <td>0.0</td>\n",
       "      <td>0.081633</td>\n",
       "      <td>0.833333</td>\n",
       "    </tr>\n",
       "    <tr>\n",
       "      <th>2</th>\n",
       "      <td>0.0</td>\n",
       "      <td>0.0</td>\n",
       "      <td>0.0</td>\n",
       "      <td>0.0</td>\n",
       "      <td>0.0</td>\n",
       "      <td>0.0</td>\n",
       "      <td>0.0</td>\n",
       "      <td>0.0</td>\n",
       "      <td>0.0</td>\n",
       "      <td>0.0</td>\n",
       "      <td>...</td>\n",
       "      <td>0.0</td>\n",
       "      <td>0.0</td>\n",
       "      <td>1.0</td>\n",
       "      <td>0.0</td>\n",
       "      <td>0.0</td>\n",
       "      <td>0.0</td>\n",
       "      <td>0.0</td>\n",
       "      <td>0.0</td>\n",
       "      <td>0.224490</td>\n",
       "      <td>0.555556</td>\n",
       "    </tr>\n",
       "  </tbody>\n",
       "</table>\n",
       "<p>3 rows × 38 columns</p>\n",
       "</div>"
      ],
      "text/plain": [
       "    0    1    2    3    4    5    6    7    8    9   ...   28   29   30   31  \\\n",
       "0  1.0  0.0  0.0  0.0  0.0  0.0  0.0  1.0  0.0  0.0  ...  0.0  0.0  0.0  0.0   \n",
       "1  0.0  1.0  0.0  0.0  0.0  0.0  0.0  0.0  0.0  0.0  ...  0.0  0.0  0.0  0.0   \n",
       "2  0.0  0.0  0.0  0.0  0.0  0.0  0.0  0.0  0.0  0.0  ...  0.0  0.0  1.0  0.0   \n",
       "\n",
       "    32   33   34   35        36        37  \n",
       "0  0.0  0.0  0.0  0.0  0.816327  1.000000  \n",
       "1  0.0  0.0  0.0  0.0  0.081633  0.833333  \n",
       "2  0.0  0.0  0.0  0.0  0.224490  0.555556  \n",
       "\n",
       "[3 rows x 38 columns]"
      ]
     },
     "execution_count": 97,
     "metadata": {},
     "output_type": "execute_result"
    }
   ],
   "source": [
    "Xtest_lr_tf.head(3)"
   ]
  },
  {
   "cell_type": "markdown",
   "id": "b8bae1a3",
   "metadata": {},
   "source": [
    "# Training the Model"
   ]
  },
  {
   "cell_type": "code",
   "execution_count": 98,
   "id": "4e9e2138",
   "metadata": {},
   "outputs": [
    {
     "name": "stdout",
     "output_type": "stream",
     "text": [
      "The train accuracy of pipeline 1 is: 0.675\n",
      "The test accuracy of pipeline 1 is: 0.665\n"
     ]
    }
   ],
   "source": [
    "pipe1 = Pipeline(steps=[('coltransf1',column_transformer),\n",
    "                 ('model1',LinearRegression())])\n",
    "\n",
    "pipe1.fit(xtrain_lr_final,ytrain)\n",
    "\n",
    "print(f\"\"\"The train accuracy of pipeline 1 is: {round(pipe1.score(xtrain_lr_final,ytrain),3)}\n",
    "The test accuracy of pipeline 1 is: {round(pipe1.score(xtest_lr,ytest),3)}\"\"\")"
   ]
  },
  {
   "cell_type": "markdown",
   "id": "39fa1af4",
   "metadata": {},
   "source": [
    "# Polynomial Expansion of the features"
   ]
  },
  {
   "cell_type": "code",
   "execution_count": 99,
   "id": "e7d7caf3",
   "metadata": {},
   "outputs": [],
   "source": [
    "# Let's define a degree for the polinomial\n",
    "deg = 2\n",
    "\n",
    "# Instantiate the transformation \n",
    "poly = PolynomialFeatures(degree=deg, interaction_only= True)"
   ]
  },
  {
   "cell_type": "code",
   "execution_count": 100,
   "id": "58ac6f0c",
   "metadata": {},
   "outputs": [],
   "source": [
    "# fit and transform on X_train\n",
    "Xtrain_lr_tf_pol = poly.fit_transform(Xtrain_lr_tf)\n",
    "\n",
    "#transform only on X_test\n",
    "Xtest_lr_tf_pol = poly.transform(Xtest_lr_tf) "
   ]
  },
  {
   "cell_type": "code",
   "execution_count": 101,
   "id": "a04365a1",
   "metadata": {},
   "outputs": [
    {
     "data": {
      "text/plain": [
       "array([[1.        , 1.        , 0.        , ..., 0.        , 0.        ,\n",
       "        0.38548753],\n",
       "       [1.        , 1.        , 1.        , ..., 0.        , 0.        ,\n",
       "        0.52040816],\n",
       "       [1.        , 1.        , 0.        , ..., 0.28571429, 0.        ,\n",
       "        0.        ],\n",
       "       ...,\n",
       "       [1.        , 0.        , 0.        , ..., 0.        , 0.        ,\n",
       "        0.25056689],\n",
       "       [1.        , 0.        , 0.        , ..., 0.        , 0.        ,\n",
       "        0.36734694],\n",
       "       [1.        , 1.        , 1.        , ..., 0.        , 0.        ,\n",
       "        0.02947846]])"
      ]
     },
     "execution_count": 101,
     "metadata": {},
     "output_type": "execute_result"
    }
   ],
   "source": [
    "Xtrain_lr_tf_pol"
   ]
  },
  {
   "cell_type": "code",
   "execution_count": 102,
   "id": "d215bf17",
   "metadata": {},
   "outputs": [
    {
     "data": {
      "text/plain": [
       "array([[1.        , 1.        , 0.        , ..., 0.        , 0.        ,\n",
       "        0.81632653],\n",
       "       [1.        , 0.        , 1.        , ..., 0.        , 0.        ,\n",
       "        0.06802721],\n",
       "       [1.        , 0.        , 0.        , ..., 0.        , 0.        ,\n",
       "        0.12471655],\n",
       "       ...,\n",
       "       [1.        , 1.        , 0.        , ..., 0.        , 0.        ,\n",
       "        0.36281179],\n",
       "       [1.        , 0.        , 0.        , ..., 0.        , 0.        ,\n",
       "        0.54421769],\n",
       "       [1.        , 0.        , 0.        , ..., 0.        , 0.        ,\n",
       "        0.        ]])"
      ]
     },
     "execution_count": 102,
     "metadata": {},
     "output_type": "execute_result"
    }
   ],
   "source": [
    "Xtest_lr_tf_pol"
   ]
  },
  {
   "cell_type": "markdown",
   "id": "bc771486",
   "metadata": {},
   "source": [
    "# fitting a linear model to polynomial data"
   ]
  },
  {
   "cell_type": "code",
   "execution_count": 103,
   "id": "48dc3957",
   "metadata": {},
   "outputs": [],
   "source": [
    "lr_poly = LinearRegression().fit(Xtrain_lr_tf_pol, ytrain)"
   ]
  },
  {
   "cell_type": "code",
   "execution_count": 104,
   "id": "28270ead",
   "metadata": {},
   "outputs": [
    {
     "data": {
      "text/plain": [
       "0.8974239828692444"
      ]
     },
     "execution_count": 104,
     "metadata": {},
     "output_type": "execute_result"
    }
   ],
   "source": [
    "lr_poly.score(Xtrain_lr_tf_pol, ytrain)"
   ]
  },
  {
   "cell_type": "code",
   "execution_count": 105,
   "id": "dfcb921b",
   "metadata": {},
   "outputs": [
    {
     "data": {
      "text/plain": [
       "array([ 65.921875 , 185.765625 ,  54.9453125, ..., 232.7734375,\n",
       "       -52.3203125, 313.90625  ])"
      ]
     },
     "execution_count": 105,
     "metadata": {},
     "output_type": "execute_result"
    }
   ],
   "source": [
    "ypred_poly_train = lr_poly.predict(Xtrain_lr_tf_pol)\n",
    "ypred_poly_train\n"
   ]
  },
  {
   "cell_type": "code",
   "execution_count": 106,
   "id": "a528321f",
   "metadata": {},
   "outputs": [
    {
     "data": {
      "text/plain": [
       "array([143.1640625, -27.9375   ,  80.21875  , ...,  38.46875  ,\n",
       "        84.9375   , 201.0703125])"
      ]
     },
     "execution_count": 106,
     "metadata": {},
     "output_type": "execute_result"
    }
   ],
   "source": [
    "ypred_poly = lr_poly.predict(Xtest_lr_tf_pol)\n",
    "ypred_poly"
   ]
  },
  {
   "cell_type": "code",
   "execution_count": 107,
   "id": "86bb8769",
   "metadata": {},
   "outputs": [
    {
     "data": {
      "text/plain": [
       "0.8828294387415563"
      ]
     },
     "execution_count": 107,
     "metadata": {},
     "output_type": "execute_result"
    }
   ],
   "source": [
    "lr_poly.score(Xtest_lr_tf_pol, ytest)"
   ]
  },
  {
   "cell_type": "code",
   "execution_count": 108,
   "id": "e83d4e97",
   "metadata": {},
   "outputs": [],
   "source": [
    "# Reduce the complexity through regularization\n",
    "\n",
    "m_lasso = Lasso(alpha=0.025, random_state=50)\n",
    " \n",
    "m_lasso.fit(Xtrain_lr_tf_pol, ytrain)     \n",
    "\n",
    "ypred_lasso = m_lasso.predict(Xtest_lr_tf_pol)\n",
    "ypred_lasso_train = m_lasso.predict(Xtrain_lr_tf_pol)\n",
    "\n",
    "m_lasso_r2 = m_lasso.score(Xtrain_lr_tf_pol, ytrain)\n",
    "m_lasso_r2_t = m_lasso.score(Xtest_lr_tf_pol, ytest)\n",
    "m_lasso_rmse = np.sqrt(mean_squared_error(ytest,ypred_lasso))\n",
    "m_lasso_mae = np.sqrt(mean_absolute_error(ytest,ypred_lasso))\n",
    "\n"
   ]
  },
  {
   "cell_type": "code",
   "execution_count": 109,
   "id": "30e9c96c",
   "metadata": {
    "scrolled": true
   },
   "outputs": [
    {
     "name": "stdout",
     "output_type": "stream",
     "text": [
      "****************************************************************************************************\n",
      "**************************************************\n",
      "m_lasso_r2: 89.3 %\n",
      "m_lasso_r2_t: 88.1 %\n",
      "m_lasso_mae: 6.454\n",
      "**************************************************\n",
      "****************************************************************************************************\n"
     ]
    }
   ],
   "source": [
    "print('*'*100)\n",
    "print('*'*50)\n",
    "print('m_lasso_r2:', round(m_lasso_r2, 3)*100, '%')\n",
    "print('m_lasso_r2_t:', round(m_lasso_r2_t,3)*100, '%')\n",
    "print('m_lasso_mae:',round(m_lasso_mae,3))\n",
    "print('*'*50)\n",
    "print('*'*100)\n"
   ]
  },
  {
   "cell_type": "code",
   "execution_count": 110,
   "id": "d7bd264b",
   "metadata": {},
   "outputs": [],
   "source": [
    "from sklearn.model_selection import cross_val_score\n",
    "from sklearn.model_selection import StratifiedShuffleSplit"
   ]
  },
  {
   "cell_type": "code",
   "execution_count": 111,
   "id": "8d08208c",
   "metadata": {},
   "outputs": [
    {
     "name": "stderr",
     "output_type": "stream",
     "text": [
      "[Parallel(n_jobs=1)]: Using backend SequentialBackend with 1 concurrent workers.\n"
     ]
    },
    {
     "name": "stdout",
     "output_type": "stream",
     "text": [
      "[CV] END ................................ score: (test=0.864) total time=   0.2s\n"
     ]
    },
    {
     "name": "stderr",
     "output_type": "stream",
     "text": [
      "[Parallel(n_jobs=1)]: Done   1 out of   1 | elapsed:    0.2s remaining:    0.0s\n"
     ]
    },
    {
     "name": "stdout",
     "output_type": "stream",
     "text": [
      "[CV] END ................................ score: (test=0.869) total time=   0.2s\n"
     ]
    },
    {
     "name": "stderr",
     "output_type": "stream",
     "text": [
      "[Parallel(n_jobs=1)]: Done   2 out of   2 | elapsed:    0.5s remaining:    0.0s\n"
     ]
    },
    {
     "name": "stdout",
     "output_type": "stream",
     "text": [
      "[CV] END ................................ score: (test=0.890) total time=   0.2s\n",
      "[CV] END ................................ score: (test=0.900) total time=   0.2s\n",
      "[CV] END ................................ score: (test=0.905) total time=   0.2s\n",
      "[CV] END ................................ score: (test=0.860) total time=   0.2s\n",
      "[CV] END ................................ score: (test=0.878) total time=   0.1s\n",
      "[CV] END ................................ score: (test=0.902) total time=   0.2s\n",
      "[CV] END ................................ score: (test=0.887) total time=   0.1s\n",
      "[CV] END ................................ score: (test=0.883) total time=   0.2s\n"
     ]
    },
    {
     "name": "stderr",
     "output_type": "stream",
     "text": [
      "[Parallel(n_jobs=1)]: Done  10 out of  10 | elapsed:    2.9s finished\n"
     ]
    }
   ],
   "source": [
    "#split = StratifiedShuffleSplit(n_splits=5,test_size=.25,random_state= 25)\n",
    "\n",
    "cross_validation_lr_pol = cross_val_score(estimator=lr_poly, # the model to evaluate\n",
    "                                     X=Xtrain_lr_tf_pol,\n",
    "                                     y=ytrain,\n",
    "                                     scoring='r2', # evaluation metrics\n",
    "                                     cv= 10, # cross validation splitting\n",
    "                                     verbose=3) "
   ]
  },
  {
   "cell_type": "code",
   "execution_count": 112,
   "id": "8a8afc9c",
   "metadata": {},
   "outputs": [
    {
     "name": "stdout",
     "output_type": "stream",
     "text": [
      "Validation accuracy scores: [0.86 0.87 0.89 0.9  0.9  0.86 0.88 0.9  0.89 0.88]\n",
      "\n",
      "mean: 0.88\n",
      "std: 0.02\n"
     ]
    }
   ],
   "source": [
    "print(f'Validation accuracy scores: {np.round(cross_validation_lr_pol,2)}')\n",
    "print(f'\\nmean: {cross_validation_lr_pol.mean():.2}')\n",
    "print(f'std: {cross_validation_lr_pol.std():.1}')"
   ]
  },
  {
   "cell_type": "code",
   "execution_count": 113,
   "id": "8a8db2c5",
   "metadata": {},
   "outputs": [],
   "source": [
    "cross_val = np.round(cross_validation_lr_pol,2)"
   ]
  },
  {
   "cell_type": "code",
   "execution_count": 114,
   "id": "37e2a35c",
   "metadata": {},
   "outputs": [
    {
     "data": {
      "text/plain": [
       "array([0.86, 0.87, 0.89, 0.9 , 0.9 , 0.86, 0.88, 0.9 , 0.89, 0.88])"
      ]
     },
     "execution_count": 114,
     "metadata": {},
     "output_type": "execute_result"
    }
   ],
   "source": [
    "cross_val"
   ]
  },
  {
   "cell_type": "code",
   "execution_count": 115,
   "id": "7cebbbdd",
   "metadata": {},
   "outputs": [],
   "source": [
    "cross_val = pd.DataFrame(cross_val, columns=['cross_val'])"
   ]
  },
  {
   "cell_type": "code",
   "execution_count": 116,
   "id": "4c8095d4",
   "metadata": {},
   "outputs": [],
   "source": [
    "cross_val = cross_val.reset_index()"
   ]
  },
  {
   "cell_type": "code",
   "execution_count": 117,
   "id": "3eba6a29",
   "metadata": {},
   "outputs": [],
   "source": [
    "cross_val = cross_val.rename(columns={'index': 'Number_of_runs'})"
   ]
  },
  {
   "cell_type": "code",
   "execution_count": 118,
   "id": "cfe03531",
   "metadata": {},
   "outputs": [],
   "source": [
    "cross_val['Number_of_runs'] = cross_val['Number_of_runs'] +1 "
   ]
  },
  {
   "cell_type": "code",
   "execution_count": 119,
   "id": "1e2d5675",
   "metadata": {},
   "outputs": [
    {
     "data": {
      "text/html": [
       "<div>\n",
       "<style scoped>\n",
       "    .dataframe tbody tr th:only-of-type {\n",
       "        vertical-align: middle;\n",
       "    }\n",
       "\n",
       "    .dataframe tbody tr th {\n",
       "        vertical-align: top;\n",
       "    }\n",
       "\n",
       "    .dataframe thead th {\n",
       "        text-align: right;\n",
       "    }\n",
       "</style>\n",
       "<table border=\"1\" class=\"dataframe\">\n",
       "  <thead>\n",
       "    <tr style=\"text-align: right;\">\n",
       "      <th></th>\n",
       "      <th>Number_of_runs</th>\n",
       "      <th>cross_val</th>\n",
       "    </tr>\n",
       "  </thead>\n",
       "  <tbody>\n",
       "    <tr>\n",
       "      <th>0</th>\n",
       "      <td>1</td>\n",
       "      <td>0.86</td>\n",
       "    </tr>\n",
       "    <tr>\n",
       "      <th>1</th>\n",
       "      <td>2</td>\n",
       "      <td>0.87</td>\n",
       "    </tr>\n",
       "    <tr>\n",
       "      <th>2</th>\n",
       "      <td>3</td>\n",
       "      <td>0.89</td>\n",
       "    </tr>\n",
       "    <tr>\n",
       "      <th>3</th>\n",
       "      <td>4</td>\n",
       "      <td>0.90</td>\n",
       "    </tr>\n",
       "    <tr>\n",
       "      <th>4</th>\n",
       "      <td>5</td>\n",
       "      <td>0.90</td>\n",
       "    </tr>\n",
       "    <tr>\n",
       "      <th>5</th>\n",
       "      <td>6</td>\n",
       "      <td>0.86</td>\n",
       "    </tr>\n",
       "    <tr>\n",
       "      <th>6</th>\n",
       "      <td>7</td>\n",
       "      <td>0.88</td>\n",
       "    </tr>\n",
       "    <tr>\n",
       "      <th>7</th>\n",
       "      <td>8</td>\n",
       "      <td>0.90</td>\n",
       "    </tr>\n",
       "    <tr>\n",
       "      <th>8</th>\n",
       "      <td>9</td>\n",
       "      <td>0.89</td>\n",
       "    </tr>\n",
       "    <tr>\n",
       "      <th>9</th>\n",
       "      <td>10</td>\n",
       "      <td>0.88</td>\n",
       "    </tr>\n",
       "  </tbody>\n",
       "</table>\n",
       "</div>"
      ],
      "text/plain": [
       "   Number_of_runs  cross_val\n",
       "0               1       0.86\n",
       "1               2       0.87\n",
       "2               3       0.89\n",
       "3               4       0.90\n",
       "4               5       0.90\n",
       "5               6       0.86\n",
       "6               7       0.88\n",
       "7               8       0.90\n",
       "8               9       0.89\n",
       "9              10       0.88"
      ]
     },
     "execution_count": 119,
     "metadata": {},
     "output_type": "execute_result"
    }
   ],
   "source": [
    "cross_val"
   ]
  },
  {
   "cell_type": "code",
   "execution_count": 120,
   "id": "e111328f",
   "metadata": {},
   "outputs": [
    {
     "data": {
      "image/png": "[encoded data removed]",
      "text/plain": [
       "<Figure size 1080x576 with 1 Axes>"
      ]
     },
     "metadata": {},
     "output_type": "display_data"
    }
   ],
   "source": [
    "fig_dims = (15,8 )\n",
    "fig, ax = plt.subplots(figsize=fig_dims)\n",
    "sns.pointplot(data = cross_val, x  = 'Number_of_runs', y = 'cross_val', ax= ax)\n",
    "plt.xlabel('Number_of_splits',fontsize = 16)\n",
    "plt.ylabel('Test_score',fontsize = 16)\n",
    "plt.xticks(fontsize = 16)\n",
    "plt.yticks(fontsize = 16)\n",
    "plt.show()"
   ]
  },
  {
   "cell_type": "markdown",
   "id": "f636d323",
   "metadata": {},
   "source": [
    "## Checking Support Vector Regressor ML Model with the transfomed data."
   ]
  },
  {
   "cell_type": "code",
   "execution_count": 121,
   "id": "f34af7bc",
   "metadata": {},
   "outputs": [],
   "source": [
    "from sklearn.svm import SVR"
   ]
  },
  {
   "cell_type": "code",
   "execution_count": 122,
   "id": "9759c24a",
   "metadata": {},
   "outputs": [
    {
     "data": {
      "text/plain": [
       "SVR(C=100, coef0=2, epsilon=10, gamma='auto', kernel='linear')"
      ]
     },
     "execution_count": 122,
     "metadata": {},
     "output_type": "execute_result"
    }
   ],
   "source": [
    "svr = SVR(kernel='linear', C = 100, gamma='auto', epsilon=10, tol=0.001, coef0=2)\n",
    "svr.fit(Xtrain_lr_tf_pol, ytrain)"
   ]
  },
  {
   "cell_type": "code",
   "execution_count": 123,
   "id": "9bf4a77f",
   "metadata": {},
   "outputs": [
    {
     "name": "stdout",
     "output_type": "stream",
     "text": [
      "Training_Score_SVR: 89.0 % \n",
      "Testing_Score_SVR: 88.0 %\n"
     ]
    }
   ],
   "source": [
    "print('Training_Score_SVR:', round(svr.score(Xtrain_lr_tf_pol, ytrain),2)*100, '%',\n",
    "      '\\nTesting_Score_SVR:', round(svr.score(Xtest_lr_tf_pol, ytest),2)*100, '%' )"
   ]
  },
  {
   "cell_type": "code",
   "execution_count": 124,
   "id": "2cc9b550",
   "metadata": {},
   "outputs": [],
   "source": [
    "ypred_svr = svr.predict(Xtest_lr_tf_pol)"
   ]
  },
  {
   "cell_type": "code",
   "execution_count": 125,
   "id": "63b8da5b",
   "metadata": {},
   "outputs": [
    {
     "name": "stderr",
     "output_type": "stream",
     "text": [
      "[Parallel(n_jobs=1)]: Using backend SequentialBackend with 1 concurrent workers.\n"
     ]
    },
    {
     "name": "stdout",
     "output_type": "stream",
     "text": [
      "[CV] END ................................ score: (test=0.859) total time=  21.2s\n"
     ]
    },
    {
     "name": "stderr",
     "output_type": "stream",
     "text": [
      "[Parallel(n_jobs=1)]: Done   1 out of   1 | elapsed:   21.2s remaining:    0.0s\n"
     ]
    },
    {
     "name": "stdout",
     "output_type": "stream",
     "text": [
      "[CV] END ................................ score: (test=0.863) total time=  20.9s\n"
     ]
    },
    {
     "name": "stderr",
     "output_type": "stream",
     "text": [
      "[Parallel(n_jobs=1)]: Done   2 out of   2 | elapsed:   42.2s remaining:    0.0s\n"
     ]
    },
    {
     "name": "stdout",
     "output_type": "stream",
     "text": [
      "[CV] END ................................ score: (test=0.890) total time=  18.7s\n",
      "[CV] END ................................ score: (test=0.895) total time=  19.5s\n",
      "[CV] END ................................ score: (test=0.903) total time=  17.6s\n",
      "[CV] END ................................ score: (test=0.860) total time=  18.1s\n",
      "[CV] END ................................ score: (test=0.877) total time=  19.1s\n",
      "[CV] END ................................ score: (test=0.902) total time=  17.1s\n",
      "[CV] END ................................ score: (test=0.881) total time=  18.6s\n",
      "[CV] END ................................ score: (test=0.882) total time=  18.9s\n"
     ]
    },
    {
     "name": "stderr",
     "output_type": "stream",
     "text": [
      "[Parallel(n_jobs=1)]: Done  10 out of  10 | elapsed:  3.2min finished\n"
     ]
    }
   ],
   "source": [
    "cross_validation_lr_pol_SVR = cross_val_score(estimator=svr, # the model to evaluate\n",
    "                                     X=Xtrain_lr_tf_pol,\n",
    "                                     y=ytrain,\n",
    "                                     scoring='r2', # evaluation metrics\n",
    "                                     cv= 10, # cross validation splitting\n",
    "                                     verbose=3) "
   ]
  },
  {
   "cell_type": "code",
   "execution_count": 126,
   "id": "ff580bc0",
   "metadata": {},
   "outputs": [
    {
     "name": "stdout",
     "output_type": "stream",
     "text": [
      "Validation accuracy scores: [0.86 0.86 0.89 0.89 0.9  0.86 0.88 0.9  0.88 0.88]\n",
      "\n",
      "mean: 0.88\n",
      "std: 0.02\n"
     ]
    }
   ],
   "source": [
    "print(f'Validation accuracy scores: {np.round(cross_validation_lr_pol_SVR,2)}')\n",
    "print(f'\\nmean: {cross_validation_lr_pol_SVR.mean():.2}')\n",
    "print(f'std: {cross_validation_lr_pol_SVR.std():.1}')"
   ]
  },
  {
   "cell_type": "code",
   "execution_count": 127,
   "id": "72e896b2",
   "metadata": {},
   "outputs": [],
   "source": [
    "ypred_train = svr.predict(Xtrain_lr_tf_pol)"
   ]
  },
  {
   "cell_type": "markdown",
   "id": "fa4b1351",
   "metadata": {},
   "source": [
    "#### Plot of bicycle demand ('count') versus one of heature 'hour' and an overlay fit of all the 3 models. "
   ]
  },
  {
   "cell_type": "code",
   "execution_count": 128,
   "id": "071bb08f",
   "metadata": {},
   "outputs": [
    {
     "name": "stdout",
     "output_type": "stream",
     "text": [
      "Training_Score_SVR: 89.0 % \n",
      "Testing_Score_SVR: 88.0 %\n"
     ]
    }
   ],
   "source": [
    "text = print('Training_Score_SVR:', round(svr.score(Xtrain_lr_tf_pol, ytrain),2)*100, '%',\n",
    "      '\\nTesting_Score_SVR:', round(svr.score(Xtest_lr_tf_pol, ytest),2)*100, '%' )"
   ]
  },
  {
   "cell_type": "code",
   "execution_count": null,
   "id": "8fc68e91",
   "metadata": {},
   "outputs": [],
   "source": []
  },
  {
   "cell_type": "code",
   "execution_count": 129,
   "id": "c8fd84e2",
   "metadata": {},
   "outputs": [
    {
     "data": {
      "text/plain": [
       "Text(0.25, 820, 'Training_Score = 89% \\nTesting_Score = 88% \\nMean_Absolute_Error = 6.6')"
      ]
     },
     "execution_count": 129,
     "metadata": {},
     "output_type": "execute_result"
    },
    {
     "data": {
      "image/png": "[encoded data removed]",
      "text/plain": [
       "<Figure size 1080x576 with 1 Axes>"
      ]
     },
     "metadata": {},
     "output_type": "display_data"
    }
   ],
   "source": [
    "sns.set_theme(context='notebook',\n",
    "    style='whitegrid',  \n",
    "    palette='deep',\n",
    "    font='sans-serif',\n",
    "    font_scale=1,\n",
    "    color_codes=True,\n",
    "    rc=None)\n",
    "\n",
    "font = {'family': 'serif',\n",
    "        'color':  'black',\n",
    "        'weight': 'normal',\n",
    "        'size': 16,\n",
    "        }\n",
    "\n",
    "fig_dims = (15,8 )\n",
    "fig, ax = plt.subplots(figsize=fig_dims)\n",
    "\n",
    "sns.lineplot(data = xtest_lr, x = 'hour',y = ypred_svr , color='red', ax =ax, ci = 0)\n",
    "sns.lineplot(data = xtest_lr, x = 'hour',y = ypred_lasso , color='black', ax =ax,  ci = 0)\n",
    "sns.lineplot(data = xtest_lr, x = 'hour',y = ypred_poly , color='darkorange', ax =ax,  ci = 0)\n",
    "sns.boxplot(data = xtest_lr, x = 'hour', y = ytest , ax= ax, linewidth= 0.5 )\n",
    "\n",
    "plt.xticks(fontsize = 14)\n",
    "plt.yticks(fontsize = 14)\n",
    "plt.xlabel('$ Hour $ $(hr)$', fontdict=font)\n",
    "plt.ylabel('$ Count $',fontdict=font)\n",
    "plt.legend(['SVR','Lasso','LR_polyexp'], prop={\"size\":16})\n",
    "plt.title('Plot of demand in bicycle during the day in hours with all the 3 ML model fitting', fontdict=font)\n",
    "plt.text(0.25,820,'Training_Score = 89% \\nTesting_Score = 88% \\nMean_Absolute_Error = 6.6', fontdict=font)\n"
   ]
  },
  {
   "cell_type": "code",
   "execution_count": null,
   "id": "0f996ed9",
   "metadata": {},
   "outputs": [],
   "source": []
  },
  {
   "cell_type": "markdown",
   "id": "cda36d4f",
   "metadata": {},
   "source": [
    "## Overall the model perfomed well  with average 88% test score from cross validation."
   ]
  }
 ],
 "metadata": {
  "kernelspec": {
   "display_name": "Python 3 (ipykernel)",
   "language": "python",
   "name": "python3"
  },
  "language_info": {
   "codemirror_mode": {
    "name": "ipython",
    "version": 3
   },
   "file_extension": ".py",
   "mimetype": "text/x-python",
   "name": "python",
   "nbconvert_exporter": "python",
   "pygments_lexer": "ipython3",
   "version": "3.9.7"
  }
 },
 "nbformat": 4,
 "nbformat_minor": 5
}
